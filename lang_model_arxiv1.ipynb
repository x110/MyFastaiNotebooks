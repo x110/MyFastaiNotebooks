{
  "nbformat": 4,
  "nbformat_minor": 0,
  "metadata": {
    "colab": {
      "name": "lang_model-arxiv1.ipynb",
      "version": "0.3.2",
      "provenance": [],
      "include_colab_link": true
    },
    "kernelspec": {
      "name": "python3",
      "display_name": "Python 3"
    }
  },
  "cells": [
    {
      "cell_type": "markdown",
      "metadata": {
        "id": "view-in-github",
        "colab_type": "text"
      },
      "source": [
        "[View in Colaboratory](https://colab.research.google.com/github/x110/MyFastaiNotebooks/blob/master/lang_model_arxiv1.ipynb)"
      ]
    },
    {
      "metadata": {
        "id": "bYn2kVpsXOpA",
        "colab_type": "text"
      },
      "cell_type": "markdown",
      "source": [
        "# Language Model"
      ]
    },
    {
      "metadata": {
        "id": "bjdiHM_pGOPA",
        "colab_type": "text"
      },
      "cell_type": "markdown",
      "source": [
        "## Prepare Virtual Machine"
      ]
    },
    {
      "metadata": {
        "id": "7ycDZ2K0FPR_",
        "colab_type": "code",
        "colab": {
          "base_uri": "https://localhost:8080/",
          "height": 106
        },
        "outputId": "98a6c826-be4d-4960-a81c-9ebb127438c2"
      },
      "cell_type": "code",
      "source": [
        "# Connect to google drive for storage \n",
        "!apt-get install -y -qq software-properties-common python-software-properties module-init-tools\n",
        "!add-apt-repository -y ppa:alessandro-strada/ppa 2>&1 > /dev/null\n",
        "!apt-get update -qq 2>&1 > /dev/null\n",
        "!apt-get -y install -qq google-drive-ocamlfuse fuse\n",
        "from google.colab import auth\n",
        "auth.authenticate_user()\n",
        "from oauth2client.client import GoogleCredentials\n",
        "creds = GoogleCredentials.get_application_default()\n",
        "import getpass\n",
        "!google-drive-ocamlfuse -headless -id={creds.client_id} -secret={creds.client_secret} < /dev/null 2>&1 | grep URL\n",
        "vcode = getpass.getpass()\n",
        "!echo {vcode} | google-drive-ocamlfuse -headless -id={creds.client_id} -secret={creds.client_secret}\n",
        "!mkdir -p drive\n",
        "!google-drive-ocamlfuse drive\n"
      ],
      "execution_count": 1,
      "outputs": [
        {
          "output_type": "stream",
          "text": [
            "Please, open the following URL in a web browser: https://accounts.google.com/o/oauth2/auth?client_id=32555940559.apps.googleusercontent.com&redirect_uri=urn%3Aietf%3Awg%3Aoauth%3A2.0%3Aoob&scope=https%3A%2F%2Fwww.googleapis.com%2Fauth%2Fdrive&response_type=code&access_type=offline&approval_prompt=force\r\n",
            "··········\n",
            "Please, open the following URL in a web browser: https://accounts.google.com/o/oauth2/auth?client_id=32555940559.apps.googleusercontent.com&redirect_uri=urn%3Aietf%3Awg%3Aoauth%3A2.0%3Aoob&scope=https%3A%2F%2Fwww.googleapis.com%2Fauth%2Fdrive&response_type=code&access_type=offline&approval_prompt=force\n",
            "Please enter the verification code: Access token retrieved correctly.\n"
          ],
          "name": "stdout"
        }
      ]
    },
    {
      "metadata": {
        "id": "aK-X9U1LFhw9",
        "colab_type": "code",
        "colab": {
          "base_uri": "https://localhost:8080/",
          "height": 4830
        },
        "outputId": "939707ab-4342-4fb5-8777-0e3de0c9c09d"
      },
      "cell_type": "code",
      "source": [
        "#Install dependencies\n",
        "!pip install https://github.com/fastai/fastai/archive/master.zip\n",
        "!pip install opencv-python\n",
        "!apt update && apt install -y libsm6 libxext6\n",
        "!pip3 install http://download.pytorch.org/whl/cu80/torch-0.3.0.post4-cp36-cp36m-linux_x86_64.whl \n",
        "!pip3 install torchvision\n",
        "#install More dependencies\n",
        "!pip install Pillow==4.0.0\n",
        "!pip install PIL\n",
        "!pip install image\n",
        "!apt-get install p7zip-full\n",
        "!pip install spacy"
      ],
      "execution_count": 2,
      "outputs": [
        {
          "output_type": "stream",
          "text": [
            "Collecting https://github.com/fastai/fastai/archive/master.zip\n",
            "  Downloading https://github.com/fastai/fastai/archive/master.zip\n",
            "\u001b[K     \\ 90.1MB 48.4MB/s\n",
            "Collecting bcolz (from fastai==0.7.0)\n",
            "\u001b[?25l  Downloading https://files.pythonhosted.org/packages/5c/4e/23942de9d5c0fb16f10335fa83e52b431bcb8c0d4a8419c9ac206268c279/bcolz-1.2.1.tar.gz (1.5MB)\n",
            "\u001b[K    100% |████████████████████████████████| 1.5MB 6.1MB/s \n",
            "\u001b[?25hRequirement already satisfied: bleach in /usr/local/lib/python3.6/dist-packages (from fastai==0.7.0) (2.1.3)\n",
            "Requirement already satisfied: certifi in /usr/local/lib/python3.6/dist-packages (from fastai==0.7.0) (2018.4.16)\n",
            "Requirement already satisfied: cycler in /usr/local/lib/python3.6/dist-packages (from fastai==0.7.0) (0.10.0)\n",
            "Requirement already satisfied: decorator in /usr/local/lib/python3.6/dist-packages (from fastai==0.7.0) (4.3.0)\n",
            "Requirement already satisfied: entrypoints in /usr/local/lib/python3.6/dist-packages (from fastai==0.7.0) (0.2.3)\n",
            "Collecting feather-format (from fastai==0.7.0)\n",
            "  Downloading https://files.pythonhosted.org/packages/08/55/940b97cc6f19a19f5dab9efef2f68a0ce43a7632f858b272391f0b851a7e/feather-format-0.4.0.tar.gz\n",
            "Collecting graphviz (from fastai==0.7.0)\n",
            "  Downloading https://files.pythonhosted.org/packages/53/39/4ab213673844e0c004bed8a0781a0721a3f6bb23eb8854ee75c236428892/graphviz-0.8.4-py2.py3-none-any.whl\n",
            "Requirement already satisfied: html5lib in /usr/local/lib/python3.6/dist-packages (from fastai==0.7.0) (1.0.1)\n",
            "Requirement already satisfied: ipykernel in /usr/local/lib/python3.6/dist-packages (from fastai==0.7.0) (4.6.1)\n",
            "Requirement already satisfied: ipython in /usr/local/lib/python3.6/dist-packages (from fastai==0.7.0) (5.5.0)\n",
            "Requirement already satisfied: ipython-genutils in /usr/local/lib/python3.6/dist-packages (from fastai==0.7.0) (0.2.0)\n",
            "Collecting ipywidgets (from fastai==0.7.0)\n",
            "\u001b[?25l  Downloading https://files.pythonhosted.org/packages/7d/24/fabc09ad81c6071159a4d12d5bfbddcbea69bd9e3b16c3250ef300c0285f/ipywidgets-7.2.1-py2.py3-none-any.whl (106kB)\n",
            "\u001b[K    100% |████████████████████████████████| 112kB 8.2MB/s \n",
            "\u001b[?25hCollecting isoweek (from fastai==0.7.0)\n",
            "  Downloading https://files.pythonhosted.org/packages/c2/d4/fe7e2637975c476734fcbf53776e650a29680194eb0dd21dbdc020ca92de/isoweek-1.3.3-py2.py3-none-any.whl\n",
            "Collecting jedi (from fastai==0.7.0)\n",
            "\u001b[?25l  Downloading https://files.pythonhosted.org/packages/3d/68/8bbf0ef969095a13ba0d4c77c1945bd86e9811960d052510551d29a2f23b/jedi-0.12.1-py2.py3-none-any.whl (174kB)\n",
            "\u001b[K    100% |████████████████████████████████| 184kB 9.6MB/s \n",
            "\u001b[?25hRequirement already satisfied: Jinja2 in /usr/local/lib/python3.6/dist-packages (from fastai==0.7.0) (2.10)\n",
            "Requirement already satisfied: jsonschema in /usr/local/lib/python3.6/dist-packages (from fastai==0.7.0) (2.6.0)\n",
            "Collecting jupyter (from fastai==0.7.0)\n",
            "  Downloading https://files.pythonhosted.org/packages/83/df/0f5dd132200728a86190397e1ea87cd76244e42d39ec5e88efd25b2abd7e/jupyter-1.0.0-py2.py3-none-any.whl\n",
            "Requirement already satisfied: MarkupSafe in /usr/local/lib/python3.6/dist-packages (from fastai==0.7.0) (1.0)\n",
            "Requirement already satisfied: matplotlib in /usr/local/lib/python3.6/dist-packages (from fastai==0.7.0) (2.1.2)\n",
            "Requirement already satisfied: numpy in /usr/local/lib/python3.6/dist-packages (from fastai==0.7.0) (1.14.5)\n",
            "Requirement already satisfied: opencv-python in /usr/local/lib/python3.6/dist-packages (from fastai==0.7.0) (3.4.1.15)\n",
            "Requirement already satisfied: pandas in /usr/local/lib/python3.6/dist-packages (from fastai==0.7.0) (0.22.0)\n",
            "Collecting pandas_summary (from fastai==0.7.0)\n",
            "  Downloading https://files.pythonhosted.org/packages/3d/a7/0364272be0c6561c45d67edec8a7bf0532d56b830438168f9078f7720f63/pandas-summary-0.0.41.tar.gz\n",
            "Requirement already satisfied: pickleshare in /usr/local/lib/python3.6/dist-packages (from fastai==0.7.0) (0.7.4)\n",
            "Requirement already satisfied: Pillow in /usr/local/lib/python3.6/dist-packages (from fastai==0.7.0) (4.0.0)\n",
            "Collecting plotnine (from fastai==0.7.0)\n",
            "\u001b[?25l  Downloading https://files.pythonhosted.org/packages/3a/68/cf39dfde4e9fd886703621e3393cd8103cb48d5ecc95b8f048ec148e53a6/plotnine-0.3.0-py2.py3-none-any.whl (3.4MB)\n",
            "\u001b[K    100% |████████████████████████████████| 3.4MB 11.3MB/s \n",
            "\u001b[?25hRequirement already satisfied: ptyprocess in /usr/local/lib/python3.6/dist-packages (from fastai==0.7.0) (0.6.0)\n",
            "Requirement already satisfied: Pygments in /usr/local/lib/python3.6/dist-packages (from fastai==0.7.0) (2.1.3)\n",
            "Requirement already satisfied: pyparsing in /usr/local/lib/python3.6/dist-packages (from fastai==0.7.0) (2.2.0)\n",
            "Requirement already satisfied: python-dateutil in /usr/local/lib/python3.6/dist-packages (from fastai==0.7.0) (2.5.3)\n",
            "Requirement already satisfied: pytz in /usr/local/lib/python3.6/dist-packages (from fastai==0.7.0) (2018.5)\n",
            "Requirement already satisfied: PyYAML in /usr/local/lib/python3.6/dist-packages (from fastai==0.7.0) (3.12)\n",
            "Requirement already satisfied: pyzmq in /usr/local/lib/python3.6/dist-packages (from fastai==0.7.0) (16.0.4)\n",
            "Requirement already satisfied: scipy in /usr/local/lib/python3.6/dist-packages (from fastai==0.7.0) (0.19.1)\n",
            "Requirement already satisfied: seaborn in /usr/local/lib/python3.6/dist-packages (from fastai==0.7.0) (0.7.1)\n",
            "Requirement already satisfied: simplegeneric in /usr/local/lib/python3.6/dist-packages (from fastai==0.7.0) (0.8.1)\n",
            "Collecting sklearn_pandas (from fastai==0.7.0)\n",
            "  Downloading https://files.pythonhosted.org/packages/c5/9e/42d7bcddb09a3ff52d0c60c810ba5d0fded28abbe320c85bbf7368192956/sklearn_pandas-1.6.0-py2.py3-none-any.whl\n",
            "Requirement already satisfied: testpath in /usr/local/lib/python3.6/dist-packages (from fastai==0.7.0) (0.3.1)\n",
            "Collecting torch<0.4 (from fastai==0.7.0)\n",
            "\u001b[?25l  Downloading https://files.pythonhosted.org/packages/5b/a5/e8b50b55b1abac9f1e3346c4242f1e42a82d368a8442cbd50c532922f6c4/torch-0.3.1-cp36-cp36m-manylinux1_x86_64.whl (496.4MB)\n",
            "\u001b[K    0% |                                | 92kB 36.9MB/s eta 0:00:14"
          ],
          "name": "stdout"
        },
        {
          "output_type": "stream",
          "text": [
            "\u001b[K    100% |████████████████████████████████| 496.4MB 27kB/s \n",
            "\u001b[?25hCollecting torchtext (from fastai==0.7.0)\n",
            "\u001b[?25l  Downloading https://files.pythonhosted.org/packages/78/90/474d5944d43001a6e72b9aaed5c3e4f77516fbef2317002da2096fd8b5ea/torchtext-0.2.3.tar.gz (42kB)\n",
            "\u001b[K    100% |████████████████████████████████| 51kB 16.1MB/s \n",
            "\u001b[?25hCollecting torchvision (from fastai==0.7.0)\n",
            "\u001b[?25l  Downloading https://files.pythonhosted.org/packages/ca/0d/f00b2885711e08bd71242ebe7b96561e6f6d01fdb4b9dcf4d37e2e13c5e1/torchvision-0.2.1-py2.py3-none-any.whl (54kB)\n",
            "\u001b[K    100% |████████████████████████████████| 61kB 12.0MB/s \n",
            "\u001b[?25hRequirement already satisfied: tornado in /usr/local/lib/python3.6/dist-packages (from fastai==0.7.0) (4.5.3)\n",
            "Collecting tqdm (from fastai==0.7.0)\n",
            "\u001b[?25l  Downloading https://files.pythonhosted.org/packages/93/24/6ab1df969db228aed36a648a8959d1027099ce45fad67532b9673d533318/tqdm-4.23.4-py2.py3-none-any.whl (42kB)\n",
            "\u001b[K    100% |████████████████████████████████| 51kB 11.8MB/s \n",
            "\u001b[?25hRequirement already satisfied: traitlets in /usr/local/lib/python3.6/dist-packages (from fastai==0.7.0) (4.3.2)\n",
            "Requirement already satisfied: wcwidth in /usr/local/lib/python3.6/dist-packages (from fastai==0.7.0) (0.1.7)\n",
            "Requirement already satisfied: webencodings in /usr/local/lib/python3.6/dist-packages (from fastai==0.7.0) (0.5.1)\n",
            "Collecting widgetsnbextension (from fastai==0.7.0)\n",
            "\u001b[?25l  Downloading https://files.pythonhosted.org/packages/ff/fa/64acc09fc845a6b2dc0724d6f3f81e829b778ed5e9a7559567b4f19a3f4b/widgetsnbextension-3.2.1-py2.py3-none-any.whl (2.2MB)\n",
            "\u001b[K    100% |████████████████████████████████| 2.2MB 11.7MB/s \n",
            "\u001b[?25hRequirement already satisfied: six in /usr/local/lib/python3.6/dist-packages (from bleach->fastai==0.7.0) (1.11.0)\n",
            "Collecting pyarrow>=0.4.0 (from feather-format->fastai==0.7.0)\n",
            "\u001b[?25l  Downloading https://files.pythonhosted.org/packages/fe/27/576e6c979bfa5f63070f809c930aa85d6198b91d17a64866234597ba861f/pyarrow-0.9.0-cp36-cp36m-manylinux1_x86_64.whl (13.7MB)\n",
            "\u001b[K    100% |████████████████████████████████| 13.7MB 2.3MB/s \n",
            "\u001b[?25hRequirement already satisfied: jupyter-client in /usr/local/lib/python3.6/dist-packages (from ipykernel->fastai==0.7.0) (5.2.3)\n",
            "Requirement already satisfied: pexpect; sys_platform != \"win32\" in /usr/local/lib/python3.6/dist-packages (from ipython->fastai==0.7.0) (4.6.0)\n",
            "Requirement already satisfied: setuptools>=18.5 in /usr/local/lib/python3.6/dist-packages (from ipython->fastai==0.7.0) (39.1.0)\n",
            "Requirement already satisfied: prompt-toolkit<2.0.0,>=1.0.4 in /usr/local/lib/python3.6/dist-packages (from ipython->fastai==0.7.0) (1.0.15)\n",
            "Requirement already satisfied: nbformat>=4.2.0 in /usr/local/lib/python3.6/dist-packages (from ipywidgets->fastai==0.7.0) (4.4.0)\n",
            "Collecting parso>=0.3.0 (from jedi->fastai==0.7.0)\n",
            "\u001b[?25l  Downloading https://files.pythonhosted.org/packages/31/19/ae6ded1b16b596e594dffe1916b365c658ddf93396824ed069a60da22b79/parso-0.3.0-py2.py3-none-any.whl (88kB)\n",
            "\u001b[K    100% |████████████████████████████████| 92kB 18.1MB/s \n",
            "\u001b[?25hRequirement already satisfied: notebook in /usr/local/lib/python3.6/dist-packages (from jupyter->fastai==0.7.0) (5.2.2)\n",
            "Requirement already satisfied: nbconvert in /usr/local/lib/python3.6/dist-packages (from jupyter->fastai==0.7.0) (5.3.1)\n",
            "Collecting qtconsole (from jupyter->fastai==0.7.0)\n",
            "\u001b[?25l  Downloading https://files.pythonhosted.org/packages/90/ff/047e0dca2627b162866920e7aa93f04523c0ae81e5c67060eec85701992d/qtconsole-4.3.1-py2.py3-none-any.whl (108kB)\n",
            "\u001b[K    100% |████████████████████████████████| 112kB 18.6MB/s \n",
            "\u001b[?25hCollecting jupyter-console (from jupyter->fastai==0.7.0)\n",
            "  Downloading https://files.pythonhosted.org/packages/77/82/6469cd7fccf7958cbe5dce2e623f1e3c5e27f1bb1ad36d90519bc2d5d370/jupyter_console-5.2.0-py2.py3-none-any.whl\n",
            "Requirement already satisfied: olefile in /usr/local/lib/python3.6/dist-packages (from Pillow->fastai==0.7.0) (0.45.1)\n",
            "Requirement already satisfied: patsy>=0.4.1 in /usr/local/lib/python3.6/dist-packages (from plotnine->fastai==0.7.0) (0.5.0)\n",
            "Collecting mizani>=0.4.1 (from plotnine->fastai==0.7.0)\n",
            "\u001b[?25l  Downloading https://files.pythonhosted.org/packages/52/01/8a3b4c6e45749674a1e5241174b4b63cd6435125e124bec275f3e02c96ac/mizani-0.4.6-py2.py3-none-any.whl (65kB)\n",
            "\u001b[K    100% |████████████████████████████████| 71kB 15.2MB/s \n",
            "\u001b[?25hRequirement already satisfied: statsmodels>=0.8.0 in /usr/local/lib/python3.6/dist-packages (from plotnine->fastai==0.7.0) (0.8.0)\n",
            "Requirement already satisfied: scikit-learn>=0.15.0 in /usr/local/lib/python3.6/dist-packages (from sklearn_pandas->fastai==0.7.0) (0.19.1)\n",
            "Requirement already satisfied: requests in /usr/local/lib/python3.6/dist-packages (from torchtext->fastai==0.7.0) (2.18.4)\n"
          ],
          "name": "stdout"
        },
        {
          "output_type": "stream",
          "text": [
            "Requirement already satisfied: jupyter-core in /usr/local/lib/python3.6/dist-packages (from jupyter-client->ipykernel->fastai==0.7.0) (4.4.0)\r\n",
            "Requirement already satisfied: terminado>=0.3.3; sys_platform != \"win32\" in /usr/local/lib/python3.6/dist-packages (from notebook->jupyter->fastai==0.7.0) (0.8.1)\r\n",
            "Requirement already satisfied: mistune>=0.7.4 in /usr/local/lib/python3.6/dist-packages (from nbconvert->jupyter->fastai==0.7.0) (0.8.3)\r\n",
            "Requirement already satisfied: pandocfilters>=1.4.1 in /usr/local/lib/python3.6/dist-packages (from nbconvert->jupyter->fastai==0.7.0) (1.4.2)\n",
            "Collecting palettable (from mizani>=0.4.1->plotnine->fastai==0.7.0)\n",
            "\u001b[?25l  Downloading https://files.pythonhosted.org/packages/56/8a/84537c0354f0d1f03bf644b71bf8e0a50db9c1294181905721a5f3efbf66/palettable-3.1.1-py2.py3-none-any.whl (77kB)\n",
            "\u001b[K    100% |████████████████████████████████| 81kB 23.1MB/s \n",
            "\u001b[?25hRequirement already satisfied: urllib3<1.23,>=1.21.1 in /usr/local/lib/python3.6/dist-packages (from requests->torchtext->fastai==0.7.0) (1.22)\n",
            "Requirement already satisfied: chardet<3.1.0,>=3.0.2 in /usr/local/lib/python3.6/dist-packages (from requests->torchtext->fastai==0.7.0) (3.0.4)\n",
            "Requirement already satisfied: idna<2.7,>=2.5 in /usr/local/lib/python3.6/dist-packages (from requests->torchtext->fastai==0.7.0) (2.6)\n",
            "Building wheels for collected packages: fastai, bcolz, feather-format, pandas-summary, torchtext\n",
            "  Running setup.py bdist_wheel for fastai ... \u001b[?25l-\b \b\\\b \b|\b \bdone\n",
            "\u001b[?25h  Stored in directory: /tmp/pip-ephem-wheel-cache-qbrw5032/wheels/64/3d/9f/d12a217aa2531321c5b9ae96288fcae2687d3b744376e8f94f\n",
            "  Running setup.py bdist_wheel for bcolz ... \u001b[?25l-\b \b\\\b \b|\b \b/\b \b-\b \b\\\b \b|\b \b/\b \b-\b \b\\\b \b|\b \b/\b \b-\b \b\\\b \b|\b \b/\b \b-\b \b\\\b \b|\b \b/\b \b-\b \b\\\b \b|\b \b/\b \b-\b \b\\\b \b|\b \b/\b \b-\b \b\\\b \b|\b \b/\b \b-\b \b\\\b \b|\b \b/\b \b-\b \b\\\b \b|\b \b/\b \b-\b \b\\\b \b|\b \b/\b \b-\b \b\\\b \b|\b \b/\b \b-\b \b\\\b \b|"
          ],
          "name": "stdout"
        },
        {
          "output_type": "stream",
          "text": [
            "\b \b/\b \b-\b \b\\\b \b|\b \b/\b \b-\b \b\\\b \b|\b \b/\b \b-\b \b\\\b \bdone\n",
            "\u001b[?25h  Stored in directory: /content/.cache/pip/wheels/9f/78/26/fb8c0acb91a100dc8914bf236c4eaa4b207cb876893c40b745\n",
            "  Running setup.py bdist_wheel for feather-format ... \u001b[?25l-\b \bdone\n",
            "\u001b[?25h  Stored in directory: /content/.cache/pip/wheels/85/7d/12/2dfa5c0195f921ac935f5e8f27deada74972edc0ae9988a9c1\n",
            "  Running setup.py bdist_wheel for pandas-summary ... \u001b[?25l-\b \bdone\n",
            "\u001b[?25h  Stored in directory: /content/.cache/pip/wheels/86/a9/6b/36b727a9ec687dac08bd3d0501cddd7b1a223943513eb04a03\n",
            "  Running setup.py bdist_wheel for torchtext ... \u001b[?25l-\b \b\\\b \bdone\n",
            "\u001b[?25h  Stored in directory: /content/.cache/pip/wheels/42/a6/f4/b267328bde6bb680094a0c173e8e5627ccc99543abded97204\n",
            "Successfully built fastai bcolz feather-format pandas-summary torchtext\n",
            "\u001b[31mplotnine 0.3.0 has requirement scipy>=1.0.0, but you'll have scipy 0.19.1 which is incompatible.\u001b[0m\n",
            "\u001b[31mtorchvision 0.2.1 has requirement pillow>=4.1.1, but you'll have pillow 4.0.0 which is incompatible.\u001b[0m\n",
            "Installing collected packages: bcolz, pyarrow, feather-format, graphviz, widgetsnbextension, ipywidgets, isoweek, parso, jedi, qtconsole, jupyter-console, jupyter, pandas-summary, palettable, mizani, plotnine, sklearn-pandas, torch, tqdm, torchtext, torchvision, fastai\n",
            "Successfully installed bcolz-1.2.1 fastai-0.7.0 feather-format-0.4.0 graphviz-0.8.4 ipywidgets-7.2.1 isoweek-1.3.3 jedi-0.12.1 jupyter-1.0.0 jupyter-console-5.2.0 mizani-0.4.6 palettable-3.1.1 pandas-summary-0.0.41 parso-0.3.0 plotnine-0.3.0 pyarrow-0.9.0 qtconsole-4.3.1 sklearn-pandas-1.6.0 torch-0.3.1 torchtext-0.2.3 torchvision-0.2.1 tqdm-4.23.4 widgetsnbextension-3.2.1\n",
            "Requirement already satisfied: opencv-python in /usr/local/lib/python3.6/dist-packages (3.4.1.15)\n",
            "Requirement already satisfied: numpy>=1.11.3 in /usr/local/lib/python3.6/dist-packages (from opencv-python) (1.14.5)\n",
            "\u001b[31mtorchvision 0.2.1 has requirement pillow>=4.1.1, but you'll have pillow 4.0.0 which is incompatible.\u001b[0m\n",
            "\u001b[31mplotnine 0.3.0 has requirement scipy>=1.0.0, but you'll have scipy 0.19.1 which is incompatible.\u001b[0m\n",
            "Hit:1 http://archive.ubuntu.com/ubuntu artful InRelease\n",
            "Hit:2 http://security.ubuntu.com/ubuntu artful-security InRelease\n",
            "Hit:3 http://ppa.launchpad.net/alessandro-strada/ppa/ubuntu artful InRelease\n",
            "Hit:4 http://archive.ubuntu.com/ubuntu artful-updates InRelease\n",
            "Hit:5 http://archive.ubuntu.com/ubuntu artful-backports InRelease\n",
            "Reading package lists... Done\n",
            "Building dependency tree       \n",
            "Reading state information... Done\n",
            "8 packages can be upgraded. Run 'apt list --upgradable' to see them.\n",
            "Reading package lists... Done\n",
            "Building dependency tree       \n",
            "Reading state information... Done\n",
            "libsm6 is already the newest version (2:1.2.2-1).\n",
            "libxext6 is already the newest version (2:1.3.3-1).\n",
            "0 upgraded, 0 newly installed, 0 to remove and 8 not upgraded.\n",
            "Collecting torch==0.3.0.post4 from http://download.pytorch.org/whl/cu80/torch-0.3.0.post4-cp36-cp36m-linux_x86_64.whl\n",
            "\u001b[?25l  Downloading http://download.pytorch.org/whl/cu80/torch-0.3.0.post4-cp36-cp36m-linux_x86_64.whl (592.3MB)\n",
            "\u001b[K    0% |                                | 471kB 2.6MB/s eta 0:03:46"
          ],
          "name": "stdout"
        },
        {
          "output_type": "stream",
          "text": [
            "\u001b[K    100% |████████████████████████████████| 592.3MB 34.2MB/s \n",
            "\u001b[?25hRequirement already satisfied: pyyaml in /usr/local/lib/python3.6/dist-packages (from torch==0.3.0.post4) (3.12)\n",
            "Requirement already satisfied: numpy in /usr/local/lib/python3.6/dist-packages (from torch==0.3.0.post4) (1.14.5)\n",
            "\u001b[31mtorchvision 0.2.1 has requirement pillow>=4.1.1, but you'll have pillow 4.0.0 which is incompatible.\u001b[0m\n",
            "\u001b[31mplotnine 0.3.0 has requirement scipy>=1.0.0, but you'll have scipy 0.19.1 which is incompatible.\u001b[0m\n",
            "Installing collected packages: torch\n",
            "  Found existing installation: torch 0.3.1\n",
            "    Uninstalling torch-0.3.1:\n",
            "      Successfully uninstalled torch-0.3.1\n",
            "Successfully installed torch-0.3.0.post4\n",
            "Requirement already satisfied: torchvision in /usr/local/lib/python3.6/dist-packages (0.2.1)\n",
            "Collecting pillow>=4.1.1 (from torchvision)\n",
            "\u001b[?25l  Downloading https://files.pythonhosted.org/packages/d1/24/f53ff6b61b3d728b90934bddb4f03f8ab584a7f49299bf3bde56e2952612/Pillow-5.2.0-cp36-cp36m-manylinux1_x86_64.whl (2.0MB)\n",
            "\u001b[K    100% |████████████████████████████████| 2.0MB 7.8MB/s \n",
            "\u001b[?25hRequirement already satisfied: six in /usr/local/lib/python3.6/dist-packages (from torchvision) (1.11.0)\n",
            "Requirement already satisfied: torch in /usr/local/lib/python3.6/dist-packages (from torchvision) (0.3.0.post4)\n",
            "Requirement already satisfied: numpy in /usr/local/lib/python3.6/dist-packages (from torchvision) (1.14.5)\n",
            "Requirement already satisfied: pyyaml in /usr/local/lib/python3.6/dist-packages (from torch->torchvision) (3.12)\n",
            "\u001b[31mplotnine 0.3.0 has requirement scipy>=1.0.0, but you'll have scipy 0.19.1 which is incompatible.\u001b[0m\n",
            "Installing collected packages: pillow\n",
            "  Found existing installation: Pillow 4.0.0\n",
            "    Uninstalling Pillow-4.0.0:\n",
            "      Successfully uninstalled Pillow-4.0.0\n",
            "Successfully installed pillow-5.2.0\n",
            "Collecting Pillow==4.0.0\n",
            "\u001b[?25l  Downloading https://files.pythonhosted.org/packages/37/e8/b3fbf87b0188d22246678f8cd61e23e31caa1769ebc06f1664e2e5fe8a17/Pillow-4.0.0-cp36-cp36m-manylinux1_x86_64.whl (5.6MB)\n",
            "\u001b[K    100% |████████████████████████████████| 5.6MB 4.7MB/s \n",
            "\u001b[?25hRequirement already satisfied: olefile in /usr/local/lib/python3.6/dist-packages (from Pillow==4.0.0) (0.45.1)\n",
            "\u001b[31mtorchvision 0.2.1 has requirement pillow>=4.1.1, but you'll have pillow 4.0.0 which is incompatible.\u001b[0m\n",
            "\u001b[31mplotnine 0.3.0 has requirement scipy>=1.0.0, but you'll have scipy 0.19.1 which is incompatible.\u001b[0m\n",
            "Installing collected packages: Pillow\n",
            "  Found existing installation: Pillow 5.2.0\n",
            "    Uninstalling Pillow-5.2.0:\n",
            "      Successfully uninstalled Pillow-5.2.0\n",
            "Successfully installed Pillow-4.0.0\n",
            "Collecting PIL\n",
            "\u001b[31m  Could not find a version that satisfies the requirement PIL (from versions: )\u001b[0m\n",
            "\u001b[31mNo matching distribution found for PIL\u001b[0m\n",
            "Collecting image\n",
            "  Downloading https://files.pythonhosted.org/packages/a7/5b/c0358fe83daab29070e38a945809585f1fd6353e65b687f602688f32c3c2/image-1.5.24-py2.py3-none-any.whl\n",
            "Collecting django (from image)\n",
            "\u001b[?25l  Downloading https://files.pythonhosted.org/packages/ab/15/cfde97943f0db45e4f999c60b696fbb4df59e82bbccc686770f4e44c9094/Django-2.0.7-py3-none-any.whl (7.1MB)\n",
            "\u001b[K    1% |▍                               | 81kB 4.2MB/s eta 0:00:02"
          ],
          "name": "stdout"
        },
        {
          "output_type": "stream",
          "text": [
            "\u001b[K    100% |████████████████████████████████| 7.1MB 3.8MB/s \n",
            "\u001b[?25hRequirement already satisfied: pillow in /usr/local/lib/python3.6/dist-packages (from image) (4.0.0)\n",
            "Requirement already satisfied: pytz in /usr/local/lib/python3.6/dist-packages (from django->image) (2018.5)\n",
            "Requirement already satisfied: olefile in /usr/local/lib/python3.6/dist-packages (from pillow->image) (0.45.1)\n",
            "\u001b[31mtorchvision 0.2.1 has requirement pillow>=4.1.1, but you'll have pillow 4.0.0 which is incompatible.\u001b[0m\n",
            "\u001b[31mplotnine 0.3.0 has requirement scipy>=1.0.0, but you'll have scipy 0.19.1 which is incompatible.\u001b[0m\n",
            "Installing collected packages: django, image\n",
            "Successfully installed django-2.0.7 image-1.5.24\n",
            "Reading package lists... Done\n",
            "Building dependency tree       \n",
            "Reading state information... Done\n",
            "p7zip-full is already the newest version (16.02+dfsg-4).\n",
            "0 upgraded, 0 newly installed, 0 to remove and 8 not upgraded.\n",
            "Collecting spacy\n",
            "\u001b[?25l  Downloading https://files.pythonhosted.org/packages/3c/31/e60f88751e48851b002f78a35221d12300783d5a43d4ef12fbf10cca96c3/spacy-2.0.11.tar.gz (17.6MB)\n",
            "\u001b[K    100% |████████████████████████████████| 17.6MB 2.0MB/s \n",
            "\u001b[?25hRequirement already satisfied: numpy>=1.7 in /usr/local/lib/python3.6/dist-packages (from spacy) (1.14.5)\n",
            "Collecting murmurhash<0.29,>=0.28 (from spacy)\n",
            "  Downloading https://files.pythonhosted.org/packages/5e/31/c8c1ecafa44db30579c8c457ac7a0f819e8b1dbc3e58308394fff5ff9ba7/murmurhash-0.28.0.tar.gz\n",
            "Collecting cymem<1.32,>=1.30 (from spacy)\n",
            "  Downloading https://files.pythonhosted.org/packages/f8/9e/273fbea507de99166c11cd0cb3fde1ac01b5bc724d9a407a2f927ede91a1/cymem-1.31.2.tar.gz\n",
            "Collecting preshed<2.0.0,>=1.0.0 (from spacy)\n",
            "\u001b[?25l  Downloading https://files.pythonhosted.org/packages/1b/ac/7c17b1fd54b60972785b646d37da2826311cca70842c011c4ff84fbe95e0/preshed-1.0.0.tar.gz (89kB)\n",
            "\u001b[K    100% |████████████████████████████████| 92kB 21.7MB/s \n",
            "\u001b[?25hCollecting thinc<6.11.0,>=6.10.1 (from spacy)\n",
            "\u001b[?25l  Downloading https://files.pythonhosted.org/packages/55/fd/e9f36081e6f53699943381858848f3b4d759e0dd03c43b98807dde34c252/thinc-6.10.2.tar.gz (1.2MB)\n",
            "\u001b[K    100% |████████████████████████████████| 1.2MB 15.8MB/s \n",
            "\u001b[?25hCollecting plac<1.0.0,>=0.9.6 (from spacy)\n",
            "  Downloading https://files.pythonhosted.org/packages/9e/9b/62c60d2f5bc135d2aa1d8c8a86aaf84edb719a59c7f11a4316259e61a298/plac-0.9.6-py2.py3-none-any.whl\n",
            "Collecting pathlib (from spacy)\n",
            "\u001b[?25l  Downloading https://files.pythonhosted.org/packages/ac/aa/9b065a76b9af472437a0059f77e8f962fe350438b927cb80184c32f075eb/pathlib-1.0.1.tar.gz (49kB)\n",
            "\u001b[K    100% |████████████████████████████████| 51kB 15.7MB/s \n",
            "\u001b[?25hCollecting ujson>=1.35 (from spacy)\n",
            "\u001b[?25l  Downloading https://files.pythonhosted.org/packages/16/c4/79f3409bc710559015464e5f49b9879430d8f87498ecdc335899732e5377/ujson-1.35.tar.gz (192kB)\n",
            "\u001b[K    100% |████████████████████████████████| 194kB 17.2MB/s \n",
            "\u001b[?25hCollecting dill<0.3,>=0.2 (from spacy)\n",
            "\u001b[?25l  Downloading https://files.pythonhosted.org/packages/6f/78/8b96476f4ae426db71c6e86a8e6a81407f015b34547e442291cd397b18f3/dill-0.2.8.2.tar.gz (150kB)\n",
            "\u001b[K    100% |████████████████████████████████| 153kB 25.0MB/s \n",
            "\u001b[?25hCollecting regex==2017.4.5 (from spacy)\n",
            "\u001b[?25l  Downloading https://files.pythonhosted.org/packages/36/62/c0c0d762ffd4ffaf39f372eb8561b8d491a11ace5a7884610424a8b40f95/regex-2017.04.05.tar.gz (601kB)\n",
            "\u001b[K    100% |████████████████████████████████| 604kB 19.3MB/s \n",
            "\u001b[?25hCollecting wrapt (from thinc<6.11.0,>=6.10.1->spacy)\n",
            "  Downloading https://files.pythonhosted.org/packages/a0/47/66897906448185fcb77fc3c2b1bc20ed0ecca81a0f2f88eda3fc5a34fc3d/wrapt-1.10.11.tar.gz\n",
            "Requirement already satisfied: tqdm<5.0.0,>=4.10.0 in /usr/local/lib/python3.6/dist-packages (from thinc<6.11.0,>=6.10.1->spacy) (4.23.4)\n",
            "Collecting cytoolz<0.9,>=0.8 (from thinc<6.11.0,>=6.10.1->spacy)\n",
            "\u001b[?25l  Downloading https://files.pythonhosted.org/packages/0f/e6/ccc124714dcc1bd511e64ddafb4d5d20ada2533b92e3173a4cf09e0d0831/cytoolz-0.8.2.tar.gz (386kB)\n",
            "\u001b[K    100% |████████████████████████████████| 389kB 24.3MB/s \n"
          ],
          "name": "stdout"
        },
        {
          "output_type": "stream",
          "text": [
            "\u001b[?25hRequirement already satisfied: six<2.0.0,>=1.10.0 in /usr/local/lib/python3.6/dist-packages (from thinc<6.11.0,>=6.10.1->spacy) (1.11.0)\r\n",
            "Requirement already satisfied: termcolor in /usr/local/lib/python3.6/dist-packages (from thinc<6.11.0,>=6.10.1->spacy) (1.1.0)\n",
            "Collecting msgpack-python (from thinc<6.11.0,>=6.10.1->spacy)\n",
            "\u001b[?25l  Downloading https://files.pythonhosted.org/packages/8a/20/6eca772d1a5830336f84aca1d8198e5a3f4715cd1c7fc36d3cc7f7185091/msgpack-python-0.5.6.tar.gz (138kB)\n",
            "\u001b[K    100% |████████████████████████████████| 143kB 22.1MB/s \n",
            "\u001b[?25hCollecting msgpack-numpy==0.4.1 (from thinc<6.11.0,>=6.10.1->spacy)\n",
            "  Downloading https://files.pythonhosted.org/packages/2e/43/393e30e2768b0357541ac95891f96b80ccc4d517e0dd2fa3042fc8926538/msgpack_numpy-0.4.1-py2.py3-none-any.whl\n",
            "Requirement already satisfied: toolz>=0.8.0 in /usr/local/lib/python3.6/dist-packages (from cytoolz<0.9,>=0.8->thinc<6.11.0,>=6.10.1->spacy) (0.9.0)\n",
            "Building wheels for collected packages: spacy, murmurhash, cymem, preshed, thinc, pathlib, ujson, dill, regex, wrapt, cytoolz, msgpack-python\n",
            "  Running setup.py bdist_wheel for spacy ... \u001b[?25l-\b \b\\\b \b|\b \b/\b \b-\b \b\\\b \b|\b \b/\b \b-\b \b\\\b \b|\b \b/\b \b-\b \b\\\b \b|\b \b/\b \b-\b \b\\\b \b|\b \b/\b \b-\b \b\\\b \b|\b \b/\b \b-\b \b\\\b \b|\b \b/\b \b-\b \b\\\b \b|\b \b/\b \b-\b \b\\\b \b|\b \b/\b \b-\b \b\\\b \b|\b \b/\b \b-\b \b\\\b \b|\b \b/\b \b-\b \b\\\b \b|\b \b/\b \b-\b \b\\\b \b|\b \b/\b \b-\b \b\\\b \b|\b \b/\b \b-\b \b\\\b \b|\b \b/\b \b-\b \b\\\b \b|\b \b/\b \b-\b \b\\\b \b|\b \b/\b \b-\b \b\\\b \b|\b \b/\b \b-\b \b\\"
          ],
          "name": "stdout"
        },
        {
          "output_type": "stream",
          "text": [
            "\b \b|\b \b/\b \b-\b \b\\\b \b|\b \bdone\n",
            "\u001b[?25h  Stored in directory: /content/.cache/pip/wheels/fb/00/28/75c85d5135e7d9a100639137d1847d41e914ed16c962d467e4\n",
            "  Running setup.py bdist_wheel for murmurhash ... \u001b[?25l-\b \b\\\b \b|\b \b/\b \bdone\n",
            "\u001b[?25h  Stored in directory: /content/.cache/pip/wheels/b8/94/a4/f69f8664cdc1098603df44771b7fec5fd1b3d8364cdd83f512\n",
            "  Running setup.py bdist_wheel for cymem ... \u001b[?25l-\b \b\\\b \bdone\n",
            "\u001b[?25h  Stored in directory: /content/.cache/pip/wheels/55/8d/4a/f6328252aa2aaec0b1cb906fd96a1566d77f0f67701071ad13\n",
            "  Running setup.py bdist_wheel for preshed ... \u001b[?25l-\b \b\\\b \b|\b \b/\b \b-\b \b\\\b \b|\b \bdone\n",
            "\u001b[?25h  Stored in directory: /content/.cache/pip/wheels/8f/85/06/2d132fb649a6bbcab22487e4147880a55b0dd0f4b18fdfd6b5\n",
            "  Running setup.py bdist_wheel for thinc ... \u001b[?25l-\b \b\\\b \b|\b \b/\b \b-\b \b\\\b \b|\b \b/\b \b-\b \b\\\b \b|\b \b/\b \b-\b \b\\\b \b|\b \b/\b \b-\b \b\\\b \b|\b \b/\b \b-\b \b\\\b \b|\b \b/\b \b-\b \bdone\n",
            "\u001b[?25h  Stored in directory: /content/.cache/pip/wheels/d8/5c/3e/9acf5d9974fb1c9e7b467563ea5429c9325f67306e93147961\n",
            "  Running setup.py bdist_wheel for pathlib ... \u001b[?25l-\b \bdone\n",
            "\u001b[?25h  Stored in directory: /content/.cache/pip/wheels/f9/b2/4a/68efdfe5093638a9918bd1bb734af625526e849487200aa171\n",
            "  Running setup.py bdist_wheel for ujson ... \u001b[?25l-\b \b\\\b \b|\b \b/\b \b-\b \b\\\b \bdone\n",
            "\u001b[?25h  Stored in directory: /content/.cache/pip/wheels/28/77/e4/0311145b9c2e2f01470e744855131f9e34d6919687550f87d1\n",
            "  Running setup.py bdist_wheel for dill ... \u001b[?25l-\b \b\\\b \bdone\n",
            "\u001b[?25h  Stored in directory: /content/.cache/pip/wheels/e2/5d/17/f87cb7751896ac629b435a8696f83ee75b11029f5d6f6bda72\n",
            "  Running setup.py bdist_wheel for regex ... \u001b[?25l-\b \b\\\b \b|\b \b/\b \b-\b \b\\\b \b|\b \bdone\n",
            "\u001b[?25h  Stored in directory: /content/.cache/pip/wheels/75/07/38/3c16b529d50cb4e0cd3dbc7b75cece8a09c132692c74450b01\n",
            "  Running setup.py bdist_wheel for wrapt ... \u001b[?25l-\b \b\\\b \bdone\n",
            "\u001b[?25h  Stored in directory: /content/.cache/pip/wheels/48/5d/04/22361a593e70d23b1f7746d932802efe1f0e523376a74f321e\n",
            "  Running setup.py bdist_wheel for cytoolz ... \u001b[?25l-\b \b\\\b \b|\b \b/\b \b-\b \b\\\b \b|\b \b/\b \bdone\n",
            "\u001b[?25h  Stored in directory: /content/.cache/pip/wheels/f8/b1/86/c92e4d36b690208fff8471711b85eaa6bc6d19860a86199a09\n",
            "  Running setup.py bdist_wheel for msgpack-python ... \u001b[?25l-\b \b\\\b \b|\b \b/\b \bdone\n",
            "\u001b[?25h  Stored in directory: /content/.cache/pip/wheels/d5/de/86/7fa56fda12511be47ea0808f3502bc879df4e63ab168ec0406\n",
            "Successfully built spacy murmurhash cymem preshed thinc pathlib ujson dill regex wrapt cytoolz msgpack-python\n",
            "\u001b[31mtorchvision 0.2.1 has requirement pillow>=4.1.1, but you'll have pillow 4.0.0 which is incompatible.\u001b[0m\n",
            "\u001b[31mplotnine 0.3.0 has requirement scipy>=1.0.0, but you'll have scipy 0.19.1 which is incompatible.\u001b[0m\n",
            "Installing collected packages: murmurhash, cymem, preshed, wrapt, cytoolz, plac, dill, pathlib, msgpack-python, msgpack-numpy, thinc, ujson, regex, spacy\n"
          ],
          "name": "stdout"
        },
        {
          "output_type": "stream",
          "text": [
            "Successfully installed cymem-1.31.2 cytoolz-0.8.2 dill-0.2.8.2 msgpack-numpy-0.4.1 msgpack-python-0.5.6 murmurhash-0.28.0 pathlib-1.0.1 plac-0.9.6 preshed-1.0.0 regex-2017.4.5 spacy-2.0.11 thinc-6.10.2 ujson-1.35 wrapt-1.10.11\r\n"
          ],
          "name": "stdout"
        }
      ]
    },
    {
      "metadata": {
        "id": "f895mXYndLv8",
        "colab_type": "code",
        "colab": {
          "base_uri": "https://localhost:8080/",
          "height": 89
        },
        "outputId": "d206c850-2e7a-489e-fe5e-41e129040271"
      },
      "cell_type": "code",
      "source": [
        "!pip install feedparser"
      ],
      "execution_count": 4,
      "outputs": [
        {
          "output_type": "stream",
          "text": [
            "Requirement already satisfied: feedparser in /usr/local/lib/python3.6/dist-packages (5.2.1)\n",
            "\u001b[31mtorchvision 0.2.1 has requirement pillow>=4.1.1, but you'll have pillow 4.0.0 which is incompatible.\u001b[0m\n",
            "\u001b[31mplotnine 0.3.0 has requirement scipy>=1.0.0, but you'll have scipy 0.19.1 which is incompatible.\u001b[0m\n"
          ],
          "name": "stdout"
        }
      ]
    },
    {
      "metadata": {
        "id": "xOoMp87rGfpt",
        "colab_type": "text"
      },
      "cell_type": "markdown",
      "source": [
        "## Data"
      ]
    },
    {
      "metadata": {
        "id": "9Dpr1ca-F3Yi",
        "colab_type": "code",
        "colab": {}
      },
      "cell_type": "code",
      "source": [
        "%reload_ext autoreload\n",
        "%autoreload 2\n",
        "%matplotlib inline\n",
        "\n",
        "from fastai.model import fit\n",
        "from fastai.dataset import *\n",
        "\n",
        "import torchtext\n",
        "from torchtext import vocab, data\n",
        "from torchtext.datasets import language_modeling\n",
        "\n",
        "from fastai.rnn_reg import *\n",
        "from fastai.rnn_train import *\n",
        "from fastai.nlp import *\n",
        "from fastai.lm_rnn import *\n",
        "\n",
        "import dill as pickle\n",
        "\n",
        "from fastai.text import LanguageModelLoader"
      ],
      "execution_count": 0,
      "outputs": []
    },
    {
      "metadata": {
        "id": "0m_SR8nlc63S",
        "colab_type": "code",
        "colab": {}
      },
      "cell_type": "code",
      "source": [
        "import os, requests, time\n",
        "import feedparser\n",
        "import pandas as pd\n",
        "\n",
        "\n",
        "class GetArXiv(object):\n",
        "\tdef __init__(self, pickle_path, categories=list()):\n",
        "\t\t\"\"\"\n",
        "\t\t:param pickle_path (str): path to pickle data file to save/load\n",
        "\t\t:param pickle_name (str): file name to save pickle to path\n",
        "\t\t:param categories (list): arXiv categories to query\n",
        "\t\t\"\"\"\n",
        "\t\tif os.path.isdir(pickle_path):\n",
        "\t\t\tpickle_path = f\"{pickle_path}{'' if pickle_path[-1] == '/' else '/'}all_arxiv.pkl\"\n",
        "\t\tif len(categories) < 1:\n",
        "\t\t\tcategories = ['cs*', 'cond-mat.dis-nn', 'q-bio.NC', 'stat.CO', 'stat.ML']\n",
        "\t\t# categories += ['cs.CV', 'cs.AI', 'cs.LG', 'cs.CL']\n",
        "\n",
        "\t\tself.categories = categories\n",
        "\t\tself.pickle_path = pickle_path\n",
        "\t\tself.base_url = 'http://export.arxiv.org/api/query'\n",
        "\n",
        "\t@staticmethod\n",
        "\tdef build_qs(categories):\n",
        "\t\t\"\"\"Build query string from categories\"\"\"\n",
        "\t\treturn '+OR+'.join(['cat:'+c for c in categories])\n",
        "\n",
        "\t@staticmethod\n",
        "\tdef get_entry_dict(entry):\n",
        "\t\t\"\"\"Return a dictionary with the items we want from a feedparser entry\"\"\"\n",
        "\t\ttry:\n",
        "\t\t\treturn dict(title=entry['title'], authors=[a['name'] for a in entry['authors']],\n",
        "\t\t\t            published=pd.Timestamp(entry['published']), summary=entry['summary'],\n",
        "\t\t\t            link=entry['link'], category=entry['category'])\n",
        "\t\texcept KeyError:\n",
        "\t\t\tprint('Missing keys in row: {}'.format(entry))\n",
        "\t\t\treturn None\n",
        "\n",
        "\t@staticmethod\n",
        "\tdef strip_version(link):\n",
        "\t\t\"\"\"Strip version number from arXiv paper link\"\"\"\n",
        "\t\treturn link[:-2]\n",
        "\n",
        "\tdef fetch_updated_data(self, max_retry=5, pg_offset=0, pg_size=1000, wait_time=15):\n",
        "\t\t\"\"\"\n",
        "\t\tGet new papers from arXiv server\n",
        "\t\t:param max_retry: max number of time to retry request\n",
        "\t\t:param pg_offset: number of pages to offset\n",
        "\t\t:param pg_size: num abstracts to fetch per request\n",
        "\t\t:param wait_time: num seconds to wait between requests\n",
        "\t\t\"\"\"\n",
        "\t\ti, retry = pg_offset, 0\n",
        "\t\tdf = pd.DataFrame()\n",
        "\t\tpast_links = []\n",
        "\t\tif os.path.isfile(self.pickle_path):\n",
        "\t\t\tdf = pd.read_pickle(self.pickle_path)\n",
        "\t\t\tdf.reset_index()\n",
        "\t\tif len(df) > 0: past_links = df.link.apply(self.strip_version)\n",
        "\n",
        "\t\twhile True:\n",
        "\t\t\tparams = dict(search_query=self.build_qs(self.categories),\n",
        "\t\t\t              sortBy='submittedDate', start=pg_size*i, max_results=pg_size)\n",
        "\t\t\tresponse = requests.get(self.base_url, params='&'.join([f'{k}={v}' for k, v in params.items()]))\n",
        "\t\t\tentries = feedparser.parse(response.text).entries\n",
        "\t\t\tif len(entries) < 1:\n",
        "\t\t\t\tif retry < max_retry:\n",
        "\t\t\t\t\tretry += 1\n",
        "\t\t\t\t\ttime.sleep(wait_time)\n",
        "\t\t\t\t\tcontinue\n",
        "\t\t\t\tbreak\n",
        "\n",
        "\t\t\tresults_df = pd.DataFrame([self.get_entry_dict(e) for e in entries])\n",
        "\t\t\tmax_date = results_df.published.max().date()\n",
        "\t\t\tnew_links = ~results_df.link.apply(self.strip_version).isin(past_links)\n",
        "\t\t\tprint(f'{i}. Fetched {len(results_df)} abstracts published {max_date} and earlier')\n",
        "\t\t\tif not new_links.any():\n",
        "\t\t\t\tbreak\n",
        "\n",
        "\t\t\tdf = pd.concat((df, results_df.loc[new_links]), ignore_index=True)\n",
        "\t\t\ti += 1\n",
        "\t\t\tretry = 0\n",
        "\t\t\ttime.sleep(wait_time)\n",
        "\n",
        "\t\tprint(f'Downloaded {len(df)-len(past_links)} new abstracts')\n",
        "\t\tdf.sort_values('published', ascending=False).groupby('link').first().reset_index()\n",
        "\t\tdf.to_pickle(self.pickle_path)\n",
        "\t\treturn df\n",
        "\n",
        "\t@classmethod\n",
        "\tdef load(cls, pickle_path):\n",
        "\t\t\"\"\"Load data from pickle and remove duplicates\"\"\"\n",
        "\t\treturn pd.read_pickle(cls(pickle_path).pickle_path)\n",
        "\n",
        "\t@classmethod\n",
        "\tdef update(cls, pickle_path, categories=list(), **kwargs):\n",
        "\t\t\"\"\"\n",
        "\t\tUpdate arXiv data pickle with the latest abstracts\n",
        "\t\t\"\"\"\n",
        "\t\tcls(pickle_path, categories).fetch_updated_data(**kwargs)\n",
        "\t\treturn True"
      ],
      "execution_count": 0,
      "outputs": []
    },
    {
      "metadata": {
        "id": "K_tGFCy6mZ9z",
        "colab_type": "code",
        "colab": {}
      },
      "cell_type": "code",
      "source": [
        "#to refresh google drive\n",
        "#!google-drive-ocamlfuse -cc"
      ],
      "execution_count": 0,
      "outputs": []
    },
    {
      "metadata": {
        "id": "0kaxUc4Vdpku",
        "colab_type": "code",
        "colab": {}
      },
      "cell_type": "code",
      "source": [
        "!mkdir data"
      ],
      "execution_count": 0,
      "outputs": []
    },
    {
      "metadata": {
        "id": "EOYn7_mxdTF8",
        "colab_type": "code",
        "colab": {}
      },
      "cell_type": "code",
      "source": [
        "#uncomment to download data\n",
        "#GetArXiv.update('data/all_arxiv.pkl')\n",
        "#df_all=GetArXiv.load('data/all_arxiv.pkl') "
      ],
      "execution_count": 0,
      "outputs": []
    },
    {
      "metadata": {
        "id": "1fe8F5bJhH02",
        "colab_type": "code",
        "colab": {}
      },
      "cell_type": "code",
      "source": [
        "df_all=pd.read_csv(\"drive/df_all.csv\",index_col=0)"
      ],
      "execution_count": 0,
      "outputs": []
    },
    {
      "metadata": {
        "id": "iBLW5AhEklx-",
        "colab_type": "code",
        "colab": {}
      },
      "cell_type": "code",
      "source": [
        "df_mb = pd.read_csv(f'drive/brundage_bot.csv')"
      ],
      "execution_count": 0,
      "outputs": []
    },
    {
      "metadata": {
        "id": "i3B6H-xrdjCn",
        "colab_type": "text"
      },
      "cell_type": "markdown",
      "source": [
        "## Code"
      ]
    },
    {
      "metadata": {
        "id": "1usZ7d9QG4r_",
        "colab_type": "code",
        "colab": {}
      },
      "cell_type": "code",
      "source": [
        "bs,bptt=64,70"
      ],
      "execution_count": 0,
      "outputs": []
    },
    {
      "metadata": {
        "id": "JkFGESk7e2Hg",
        "colab_type": "code",
        "colab": {
          "base_uri": "https://localhost:8080/",
          "height": 574
        },
        "outputId": "06972799-31c8-4d77-e87c-8ae1eba1b8a1"
      },
      "cell_type": "code",
      "source": [
        "df_all.head()"
      ],
      "execution_count": 33,
      "outputs": [
        {
          "output_type": "execute_result",
          "data": {
            "text/html": [
              "<div>\n",
              "<style scoped>\n",
              "    .dataframe tbody tr th:only-of-type {\n",
              "        vertical-align: middle;\n",
              "    }\n",
              "\n",
              "    .dataframe tbody tr th {\n",
              "        vertical-align: top;\n",
              "    }\n",
              "\n",
              "    .dataframe thead th {\n",
              "        text-align: right;\n",
              "    }\n",
              "</style>\n",
              "<table border=\"1\" class=\"dataframe\">\n",
              "  <thead>\n",
              "    <tr style=\"text-align: right;\">\n",
              "      <th></th>\n",
              "      <th>authors</th>\n",
              "      <th>category</th>\n",
              "      <th>link</th>\n",
              "      <th>published</th>\n",
              "      <th>summary</th>\n",
              "      <th>title</th>\n",
              "      <th>txt</th>\n",
              "    </tr>\n",
              "  </thead>\n",
              "  <tbody>\n",
              "    <tr>\n",
              "      <th>0</th>\n",
              "      <td>['Tobias Kappé', 'Paul Brunet', 'Bas Luttik', ...</td>\n",
              "      <td>cs.FL</td>\n",
              "      <td>http://arxiv.org/abs/1807.02102v1</td>\n",
              "      <td>2018-07-05 17:42:35+00:00</td>\n",
              "      <td>Pomset automata are an operational model of we...</td>\n",
              "      <td>Equivalence checking for weak bi-Kleene algebra</td>\n",
              "      <td>&lt;CAT&gt;csFL &lt;SUMM&gt; Pomset automata are an operat...</td>\n",
              "    </tr>\n",
              "    <tr>\n",
              "      <th>1</th>\n",
              "      <td>['Somdip Dey', 'Grigorios Kalliatakis', 'Sange...</td>\n",
              "      <td>cs.CV</td>\n",
              "      <td>http://arxiv.org/abs/1807.02098v1</td>\n",
              "      <td>2018-07-05 17:35:33+00:00</td>\n",
              "      <td>Intelligent Transportation Systems (ITS) have ...</td>\n",
              "      <td>MAT-CNN-SOPC: Motionless Analysis of Traffic U...</td>\n",
              "      <td>&lt;CAT&gt;csCV &lt;SUMM&gt; Intelligent Transportation Sy...</td>\n",
              "    </tr>\n",
              "    <tr>\n",
              "      <th>2</th>\n",
              "      <td>['Claire Vernade', 'Alexandra Carpentier', 'Gi...</td>\n",
              "      <td>stat.ML</td>\n",
              "      <td>http://arxiv.org/abs/1807.02089v1</td>\n",
              "      <td>2018-07-05 17:09:33+00:00</td>\n",
              "      <td>Delayed feedback is an ubiquitous problem in m...</td>\n",
              "      <td>Contextual Bandits under Delayed Feedback</td>\n",
              "      <td>&lt;CAT&gt;statML &lt;SUMM&gt; Delayed feedback is an ubiq...</td>\n",
              "    </tr>\n",
              "    <tr>\n",
              "      <th>3</th>\n",
              "      <td>['Henning Tjaden', 'Ulrich Schwanecke', 'Elmar...</td>\n",
              "      <td>cs.CV</td>\n",
              "      <td>http://arxiv.org/abs/1807.02087v1</td>\n",
              "      <td>2018-07-05 16:56:54+00:00</td>\n",
              "      <td>We propose an algorithm for real-time 6DOF pos...</td>\n",
              "      <td>A Gauss-Newton Approach to Real-Time Monocular...</td>\n",
              "      <td>&lt;CAT&gt;csCV &lt;SUMM&gt; We propose an algorithm for r...</td>\n",
              "    </tr>\n",
              "    <tr>\n",
              "      <th>4</th>\n",
              "      <td>['Luca Aceto', 'Ignacio Fábregas', 'Álvaro Gar...</td>\n",
              "      <td>cs.PL</td>\n",
              "      <td>http://arxiv.org/abs/1807.02081v1</td>\n",
              "      <td>2018-07-05 16:41:40+00:00</td>\n",
              "      <td>The nominal transition systems (NTSs) of Parro...</td>\n",
              "      <td>Rule Formats for Nominal Process Calculi</td>\n",
              "      <td>&lt;CAT&gt;csPL &lt;SUMM&gt; The nominal transition system...</td>\n",
              "    </tr>\n",
              "  </tbody>\n",
              "</table>\n",
              "</div>"
            ],
            "text/plain": [
              "                                             authors category  \\\n",
              "0  ['Tobias Kappé', 'Paul Brunet', 'Bas Luttik', ...    cs.FL   \n",
              "1  ['Somdip Dey', 'Grigorios Kalliatakis', 'Sange...    cs.CV   \n",
              "2  ['Claire Vernade', 'Alexandra Carpentier', 'Gi...  stat.ML   \n",
              "3  ['Henning Tjaden', 'Ulrich Schwanecke', 'Elmar...    cs.CV   \n",
              "4  ['Luca Aceto', 'Ignacio Fábregas', 'Álvaro Gar...    cs.PL   \n",
              "\n",
              "                                link                  published  \\\n",
              "0  http://arxiv.org/abs/1807.02102v1  2018-07-05 17:42:35+00:00   \n",
              "1  http://arxiv.org/abs/1807.02098v1  2018-07-05 17:35:33+00:00   \n",
              "2  http://arxiv.org/abs/1807.02089v1  2018-07-05 17:09:33+00:00   \n",
              "3  http://arxiv.org/abs/1807.02087v1  2018-07-05 16:56:54+00:00   \n",
              "4  http://arxiv.org/abs/1807.02081v1  2018-07-05 16:41:40+00:00   \n",
              "\n",
              "                                             summary  \\\n",
              "0  Pomset automata are an operational model of we...   \n",
              "1  Intelligent Transportation Systems (ITS) have ...   \n",
              "2  Delayed feedback is an ubiquitous problem in m...   \n",
              "3  We propose an algorithm for real-time 6DOF pos...   \n",
              "4  The nominal transition systems (NTSs) of Parro...   \n",
              "\n",
              "                                               title  \\\n",
              "0    Equivalence checking for weak bi-Kleene algebra   \n",
              "1  MAT-CNN-SOPC: Motionless Analysis of Traffic U...   \n",
              "2          Contextual Bandits under Delayed Feedback   \n",
              "3  A Gauss-Newton Approach to Real-Time Monocular...   \n",
              "4           Rule Formats for Nominal Process Calculi   \n",
              "\n",
              "                                                 txt  \n",
              "0  <CAT>csFL <SUMM> Pomset automata are an operat...  \n",
              "1  <CAT>csCV <SUMM> Intelligent Transportation Sy...  \n",
              "2  <CAT>statML <SUMM> Delayed feedback is an ubiq...  \n",
              "3  <CAT>csCV <SUMM> We propose an algorithm for r...  \n",
              "4  <CAT>csPL <SUMM> The nominal transition system...  "
            ]
          },
          "metadata": {
            "tags": []
          },
          "execution_count": 33
        }
      ]
    },
    {
      "metadata": {
        "id": "bjJ6d9bHgEGO",
        "colab_type": "code",
        "colab": {
          "base_uri": "https://localhost:8080/",
          "height": 504
        },
        "outputId": "86d888ed-ee90-41f9-bac1-c2a179a115b4"
      },
      "cell_type": "code",
      "source": [
        "df_mb.head()"
      ],
      "execution_count": 39,
      "outputs": [
        {
          "output_type": "execute_result",
          "data": {
            "text/html": [
              "<div>\n",
              "<style scoped>\n",
              "    .dataframe tbody tr th:only-of-type {\n",
              "        vertical-align: middle;\n",
              "    }\n",
              "\n",
              "    .dataframe tbody tr th {\n",
              "        vertical-align: top;\n",
              "    }\n",
              "\n",
              "    .dataframe thead th {\n",
              "        text-align: right;\n",
              "    }\n",
              "</style>\n",
              "<table border=\"1\" class=\"dataframe\">\n",
              "  <thead>\n",
              "    <tr style=\"text-align: right;\">\n",
              "      <th></th>\n",
              "      <th>link</th>\n",
              "      <th>time</th>\n",
              "      <th>favorites</th>\n",
              "      <th>rts</th>\n",
              "      <th>authors</th>\n",
              "      <th>category</th>\n",
              "      <th>published</th>\n",
              "      <th>summary</th>\n",
              "      <th>title</th>\n",
              "      <th>tweeted</th>\n",
              "    </tr>\n",
              "  </thead>\n",
              "  <tbody>\n",
              "    <tr>\n",
              "      <th>0</th>\n",
              "      <td>arxiv.org/abs/1611.10003</td>\n",
              "      <td>NaN</td>\n",
              "      <td>NaN</td>\n",
              "      <td>NaN</td>\n",
              "      <td>[Tom A. F. Anderson, C. -H. Ruan]</td>\n",
              "      <td>q-bio.NC</td>\n",
              "      <td>2016-11-30 05:17:11</td>\n",
              "      <td>In summary of the research findings presented ...</td>\n",
              "      <td>Vocabulary and the Brain: Evidence from Neuroi...</td>\n",
              "      <td>0</td>\n",
              "    </tr>\n",
              "    <tr>\n",
              "      <th>1</th>\n",
              "      <td>arxiv.org/abs/1611.10007</td>\n",
              "      <td>NaN</td>\n",
              "      <td>NaN</td>\n",
              "      <td>NaN</td>\n",
              "      <td>[M. Amin Rahimian, Amir G. Aghdam]</td>\n",
              "      <td>cs.SY</td>\n",
              "      <td>2016-11-30 05:37:11</td>\n",
              "      <td>In this paper, structural controllability of a...</td>\n",
              "      <td>Structural Controllability of Multi-Agent Netw...</td>\n",
              "      <td>0</td>\n",
              "    </tr>\n",
              "    <tr>\n",
              "      <th>2</th>\n",
              "      <td>arxiv.org/abs/1611.10010</td>\n",
              "      <td>NaN</td>\n",
              "      <td>NaN</td>\n",
              "      <td>NaN</td>\n",
              "      <td>[Debidatta Dwibedi, Tomasz Malisiewicz, Vijay ...</td>\n",
              "      <td>cs.CV</td>\n",
              "      <td>2016-11-30 06:00:47</td>\n",
              "      <td>We present a Deep Cuboid Detector which takes ...</td>\n",
              "      <td>Deep Cuboid Detection: Beyond 2D Bounding Boxes</td>\n",
              "      <td>0</td>\n",
              "    </tr>\n",
              "    <tr>\n",
              "      <th>3</th>\n",
              "      <td>arxiv.org/abs/1611.10012</td>\n",
              "      <td>2016-12-01 01:46:12</td>\n",
              "      <td>11.0</td>\n",
              "      <td>2.0</td>\n",
              "      <td>[Jonathan Huang, Vivek Rathod, Chen Sun, Mengl...</td>\n",
              "      <td>cs.CV</td>\n",
              "      <td>2016-11-30 06:06:15</td>\n",
              "      <td>In this paper, we study the trade-off between ...</td>\n",
              "      <td>Speed/accuracy trade-offs for modern convoluti...</td>\n",
              "      <td>1</td>\n",
              "    </tr>\n",
              "    <tr>\n",
              "      <th>4</th>\n",
              "      <td>arxiv.org/abs/1611.10014</td>\n",
              "      <td>NaN</td>\n",
              "      <td>NaN</td>\n",
              "      <td>NaN</td>\n",
              "      <td>[Yoones Hashemi, Amir H. Banihashemi]</td>\n",
              "      <td>cs.IT</td>\n",
              "      <td>2016-11-30 06:12:45</td>\n",
              "      <td>In this paper, we propose a characterization o...</td>\n",
              "      <td>Characterization and Efficient Exhaustive Sear...</td>\n",
              "      <td>0</td>\n",
              "    </tr>\n",
              "  </tbody>\n",
              "</table>\n",
              "</div>"
            ],
            "text/plain": [
              "                       link                 time  favorites  rts  \\\n",
              "0  arxiv.org/abs/1611.10003                  NaN        NaN  NaN   \n",
              "1  arxiv.org/abs/1611.10007                  NaN        NaN  NaN   \n",
              "2  arxiv.org/abs/1611.10010                  NaN        NaN  NaN   \n",
              "3  arxiv.org/abs/1611.10012  2016-12-01 01:46:12       11.0  2.0   \n",
              "4  arxiv.org/abs/1611.10014                  NaN        NaN  NaN   \n",
              "\n",
              "                                             authors  category  \\\n",
              "0                  [Tom A. F. Anderson, C. -H. Ruan]  q-bio.NC   \n",
              "1                 [M. Amin Rahimian, Amir G. Aghdam]     cs.SY   \n",
              "2  [Debidatta Dwibedi, Tomasz Malisiewicz, Vijay ...     cs.CV   \n",
              "3  [Jonathan Huang, Vivek Rathod, Chen Sun, Mengl...     cs.CV   \n",
              "4              [Yoones Hashemi, Amir H. Banihashemi]     cs.IT   \n",
              "\n",
              "             published                                            summary  \\\n",
              "0  2016-11-30 05:17:11  In summary of the research findings presented ...   \n",
              "1  2016-11-30 05:37:11  In this paper, structural controllability of a...   \n",
              "2  2016-11-30 06:00:47  We present a Deep Cuboid Detector which takes ...   \n",
              "3  2016-11-30 06:06:15  In this paper, we study the trade-off between ...   \n",
              "4  2016-11-30 06:12:45  In this paper, we propose a characterization o...   \n",
              "\n",
              "                                               title  tweeted  \n",
              "0  Vocabulary and the Brain: Evidence from Neuroi...        0  \n",
              "1  Structural Controllability of Multi-Agent Netw...        0  \n",
              "2    Deep Cuboid Detection: Beyond 2D Bounding Boxes        0  \n",
              "3  Speed/accuracy trade-offs for modern convoluti...        1  \n",
              "4  Characterization and Efficient Exhaustive Sear...        0  "
            ]
          },
          "metadata": {
            "tags": []
          },
          "execution_count": 39
        }
      ]
    },
    {
      "metadata": {
        "id": "1bu2JT9Ldc8b",
        "colab_type": "code",
        "colab": {
          "base_uri": "https://localhost:8080/",
          "height": 34
        },
        "outputId": "6d14acec-5d2f-4aaa-8e37-d5f3a1163916"
      },
      "cell_type": "code",
      "source": [
        "def get_txt(df):\n",
        "  return '<CAT> '+df.category.str.replace(r'[\\.\\-]','')+ ' <SUMM> '+df.summary+' <TITLE> '+df.title\n",
        "\n",
        "df_mb['txt']=get_txt(df_mb)\n",
        "df_all['txt']=get_txt(df_all)\n",
        "n=len(df_all);n"
      ],
      "execution_count": 84,
      "outputs": [
        {
          "output_type": "execute_result",
          "data": {
            "text/plain": [
              "50000"
            ]
          },
          "metadata": {
            "tags": []
          },
          "execution_count": 84
        }
      ]
    },
    {
      "metadata": {
        "id": "-4s7SRfzgf6A",
        "colab_type": "code",
        "colab": {
          "base_uri": "https://localhost:8080/",
          "height": 574
        },
        "outputId": "cbbc5fd3-489c-4bcd-b737-3450a0e29a2b"
      },
      "cell_type": "code",
      "source": [
        "df_all.head()"
      ],
      "execution_count": 87,
      "outputs": [
        {
          "output_type": "execute_result",
          "data": {
            "text/html": [
              "<div>\n",
              "<style scoped>\n",
              "    .dataframe tbody tr th:only-of-type {\n",
              "        vertical-align: middle;\n",
              "    }\n",
              "\n",
              "    .dataframe tbody tr th {\n",
              "        vertical-align: top;\n",
              "    }\n",
              "\n",
              "    .dataframe thead th {\n",
              "        text-align: right;\n",
              "    }\n",
              "</style>\n",
              "<table border=\"1\" class=\"dataframe\">\n",
              "  <thead>\n",
              "    <tr style=\"text-align: right;\">\n",
              "      <th></th>\n",
              "      <th>authors</th>\n",
              "      <th>category</th>\n",
              "      <th>link</th>\n",
              "      <th>published</th>\n",
              "      <th>summary</th>\n",
              "      <th>title</th>\n",
              "      <th>txt</th>\n",
              "    </tr>\n",
              "  </thead>\n",
              "  <tbody>\n",
              "    <tr>\n",
              "      <th>0</th>\n",
              "      <td>['Tobias Kappé', 'Paul Brunet', 'Bas Luttik', ...</td>\n",
              "      <td>cs.FL</td>\n",
              "      <td>http://arxiv.org/abs/1807.02102v1</td>\n",
              "      <td>2018-07-05 17:42:35+00:00</td>\n",
              "      <td>Pomset automata are an operational model of we...</td>\n",
              "      <td>Equivalence checking for weak bi-Kleene algebra</td>\n",
              "      <td>&lt;CAT&gt; csFL &lt;SUMM&gt; Pomset automata are an opera...</td>\n",
              "    </tr>\n",
              "    <tr>\n",
              "      <th>1</th>\n",
              "      <td>['Somdip Dey', 'Grigorios Kalliatakis', 'Sange...</td>\n",
              "      <td>cs.CV</td>\n",
              "      <td>http://arxiv.org/abs/1807.02098v1</td>\n",
              "      <td>2018-07-05 17:35:33+00:00</td>\n",
              "      <td>Intelligent Transportation Systems (ITS) have ...</td>\n",
              "      <td>MAT-CNN-SOPC: Motionless Analysis of Traffic U...</td>\n",
              "      <td>&lt;CAT&gt; csCV &lt;SUMM&gt; Intelligent Transportation S...</td>\n",
              "    </tr>\n",
              "    <tr>\n",
              "      <th>2</th>\n",
              "      <td>['Claire Vernade', 'Alexandra Carpentier', 'Gi...</td>\n",
              "      <td>stat.ML</td>\n",
              "      <td>http://arxiv.org/abs/1807.02089v1</td>\n",
              "      <td>2018-07-05 17:09:33+00:00</td>\n",
              "      <td>Delayed feedback is an ubiquitous problem in m...</td>\n",
              "      <td>Contextual Bandits under Delayed Feedback</td>\n",
              "      <td>&lt;CAT&gt; statML &lt;SUMM&gt; Delayed feedback is an ubi...</td>\n",
              "    </tr>\n",
              "    <tr>\n",
              "      <th>3</th>\n",
              "      <td>['Henning Tjaden', 'Ulrich Schwanecke', 'Elmar...</td>\n",
              "      <td>cs.CV</td>\n",
              "      <td>http://arxiv.org/abs/1807.02087v1</td>\n",
              "      <td>2018-07-05 16:56:54+00:00</td>\n",
              "      <td>We propose an algorithm for real-time 6DOF pos...</td>\n",
              "      <td>A Gauss-Newton Approach to Real-Time Monocular...</td>\n",
              "      <td>&lt;CAT&gt; csCV &lt;SUMM&gt; We propose an algorithm for ...</td>\n",
              "    </tr>\n",
              "    <tr>\n",
              "      <th>4</th>\n",
              "      <td>['Luca Aceto', 'Ignacio Fábregas', 'Álvaro Gar...</td>\n",
              "      <td>cs.PL</td>\n",
              "      <td>http://arxiv.org/abs/1807.02081v1</td>\n",
              "      <td>2018-07-05 16:41:40+00:00</td>\n",
              "      <td>The nominal transition systems (NTSs) of Parro...</td>\n",
              "      <td>Rule Formats for Nominal Process Calculi</td>\n",
              "      <td>&lt;CAT&gt; csPL &lt;SUMM&gt; The nominal transition syste...</td>\n",
              "    </tr>\n",
              "  </tbody>\n",
              "</table>\n",
              "</div>"
            ],
            "text/plain": [
              "                                             authors category  \\\n",
              "0  ['Tobias Kappé', 'Paul Brunet', 'Bas Luttik', ...    cs.FL   \n",
              "1  ['Somdip Dey', 'Grigorios Kalliatakis', 'Sange...    cs.CV   \n",
              "2  ['Claire Vernade', 'Alexandra Carpentier', 'Gi...  stat.ML   \n",
              "3  ['Henning Tjaden', 'Ulrich Schwanecke', 'Elmar...    cs.CV   \n",
              "4  ['Luca Aceto', 'Ignacio Fábregas', 'Álvaro Gar...    cs.PL   \n",
              "\n",
              "                                link                  published  \\\n",
              "0  http://arxiv.org/abs/1807.02102v1  2018-07-05 17:42:35+00:00   \n",
              "1  http://arxiv.org/abs/1807.02098v1  2018-07-05 17:35:33+00:00   \n",
              "2  http://arxiv.org/abs/1807.02089v1  2018-07-05 17:09:33+00:00   \n",
              "3  http://arxiv.org/abs/1807.02087v1  2018-07-05 16:56:54+00:00   \n",
              "4  http://arxiv.org/abs/1807.02081v1  2018-07-05 16:41:40+00:00   \n",
              "\n",
              "                                             summary  \\\n",
              "0  Pomset automata are an operational model of we...   \n",
              "1  Intelligent Transportation Systems (ITS) have ...   \n",
              "2  Delayed feedback is an ubiquitous problem in m...   \n",
              "3  We propose an algorithm for real-time 6DOF pos...   \n",
              "4  The nominal transition systems (NTSs) of Parro...   \n",
              "\n",
              "                                               title  \\\n",
              "0    Equivalence checking for weak bi-Kleene algebra   \n",
              "1  MAT-CNN-SOPC: Motionless Analysis of Traffic U...   \n",
              "2          Contextual Bandits under Delayed Feedback   \n",
              "3  A Gauss-Newton Approach to Real-Time Monocular...   \n",
              "4           Rule Formats for Nominal Process Calculi   \n",
              "\n",
              "                                                 txt  \n",
              "0  <CAT> csFL <SUMM> Pomset automata are an opera...  \n",
              "1  <CAT> csCV <SUMM> Intelligent Transportation S...  \n",
              "2  <CAT> statML <SUMM> Delayed feedback is an ubi...  \n",
              "3  <CAT> csCV <SUMM> We propose an algorithm for ...  \n",
              "4  <CAT> csPL <SUMM> The nominal transition syste...  "
            ]
          },
          "metadata": {
            "tags": []
          },
          "execution_count": 87
        }
      ]
    },
    {
      "metadata": {
        "id": "dVACQHIogmQR",
        "colab_type": "code",
        "colab": {
          "base_uri": "https://localhost:8080/",
          "height": 765
        },
        "outputId": "3be98df3-0bd0-43e9-92b1-69b6128ccf70"
      },
      "cell_type": "code",
      "source": [
        "df_mb.head()"
      ],
      "execution_count": 91,
      "outputs": [
        {
          "output_type": "execute_result",
          "data": {
            "text/html": [
              "<div>\n",
              "<style scoped>\n",
              "    .dataframe tbody tr th:only-of-type {\n",
              "        vertical-align: middle;\n",
              "    }\n",
              "\n",
              "    .dataframe tbody tr th {\n",
              "        vertical-align: top;\n",
              "    }\n",
              "\n",
              "    .dataframe thead th {\n",
              "        text-align: right;\n",
              "    }\n",
              "</style>\n",
              "<table border=\"1\" class=\"dataframe\">\n",
              "  <thead>\n",
              "    <tr style=\"text-align: right;\">\n",
              "      <th></th>\n",
              "      <th>link</th>\n",
              "      <th>time</th>\n",
              "      <th>favorites</th>\n",
              "      <th>rts</th>\n",
              "      <th>authors</th>\n",
              "      <th>category</th>\n",
              "      <th>published</th>\n",
              "      <th>summary</th>\n",
              "      <th>title</th>\n",
              "      <th>tweeted</th>\n",
              "      <th>txt</th>\n",
              "    </tr>\n",
              "  </thead>\n",
              "  <tbody>\n",
              "    <tr>\n",
              "      <th>0</th>\n",
              "      <td>arxiv.org/abs/1611.10003</td>\n",
              "      <td>NaN</td>\n",
              "      <td>NaN</td>\n",
              "      <td>NaN</td>\n",
              "      <td>[Tom A. F. Anderson, C. -H. Ruan]</td>\n",
              "      <td>q-bio.NC</td>\n",
              "      <td>2016-11-30 05:17:11</td>\n",
              "      <td>In summary of the research findings presented ...</td>\n",
              "      <td>Vocabulary and the Brain: Evidence from Neuroi...</td>\n",
              "      <td>0</td>\n",
              "      <td>&lt;CAT&gt; qbioNC &lt;SUMM&gt; In summary of the research...</td>\n",
              "    </tr>\n",
              "    <tr>\n",
              "      <th>1</th>\n",
              "      <td>arxiv.org/abs/1611.10007</td>\n",
              "      <td>NaN</td>\n",
              "      <td>NaN</td>\n",
              "      <td>NaN</td>\n",
              "      <td>[M. Amin Rahimian, Amir G. Aghdam]</td>\n",
              "      <td>cs.SY</td>\n",
              "      <td>2016-11-30 05:37:11</td>\n",
              "      <td>In this paper, structural controllability of a...</td>\n",
              "      <td>Structural Controllability of Multi-Agent Netw...</td>\n",
              "      <td>0</td>\n",
              "      <td>&lt;CAT&gt; csSY &lt;SUMM&gt; In this paper, structural co...</td>\n",
              "    </tr>\n",
              "    <tr>\n",
              "      <th>2</th>\n",
              "      <td>arxiv.org/abs/1611.10010</td>\n",
              "      <td>NaN</td>\n",
              "      <td>NaN</td>\n",
              "      <td>NaN</td>\n",
              "      <td>[Debidatta Dwibedi, Tomasz Malisiewicz, Vijay ...</td>\n",
              "      <td>cs.CV</td>\n",
              "      <td>2016-11-30 06:00:47</td>\n",
              "      <td>We present a Deep Cuboid Detector which takes ...</td>\n",
              "      <td>Deep Cuboid Detection: Beyond 2D Bounding Boxes</td>\n",
              "      <td>0</td>\n",
              "      <td>&lt;CAT&gt; csCV &lt;SUMM&gt; We present a Deep Cuboid Det...</td>\n",
              "    </tr>\n",
              "    <tr>\n",
              "      <th>3</th>\n",
              "      <td>arxiv.org/abs/1611.10012</td>\n",
              "      <td>2016-12-01 01:46:12</td>\n",
              "      <td>11.0</td>\n",
              "      <td>2.0</td>\n",
              "      <td>[Jonathan Huang, Vivek Rathod, Chen Sun, Mengl...</td>\n",
              "      <td>cs.CV</td>\n",
              "      <td>2016-11-30 06:06:15</td>\n",
              "      <td>In this paper, we study the trade-off between ...</td>\n",
              "      <td>Speed/accuracy trade-offs for modern convoluti...</td>\n",
              "      <td>1</td>\n",
              "      <td>&lt;CAT&gt; csCV &lt;SUMM&gt; In this paper, we study the ...</td>\n",
              "    </tr>\n",
              "    <tr>\n",
              "      <th>4</th>\n",
              "      <td>arxiv.org/abs/1611.10014</td>\n",
              "      <td>NaN</td>\n",
              "      <td>NaN</td>\n",
              "      <td>NaN</td>\n",
              "      <td>[Yoones Hashemi, Amir H. Banihashemi]</td>\n",
              "      <td>cs.IT</td>\n",
              "      <td>2016-11-30 06:12:45</td>\n",
              "      <td>In this paper, we propose a characterization o...</td>\n",
              "      <td>Characterization and Efficient Exhaustive Sear...</td>\n",
              "      <td>0</td>\n",
              "      <td>&lt;CAT&gt; csIT &lt;SUMM&gt; In this paper, we propose a ...</td>\n",
              "    </tr>\n",
              "  </tbody>\n",
              "</table>\n",
              "</div>"
            ],
            "text/plain": [
              "                       link                 time  favorites  rts  \\\n",
              "0  arxiv.org/abs/1611.10003                  NaN        NaN  NaN   \n",
              "1  arxiv.org/abs/1611.10007                  NaN        NaN  NaN   \n",
              "2  arxiv.org/abs/1611.10010                  NaN        NaN  NaN   \n",
              "3  arxiv.org/abs/1611.10012  2016-12-01 01:46:12       11.0  2.0   \n",
              "4  arxiv.org/abs/1611.10014                  NaN        NaN  NaN   \n",
              "\n",
              "                                             authors  category  \\\n",
              "0                  [Tom A. F. Anderson, C. -H. Ruan]  q-bio.NC   \n",
              "1                 [M. Amin Rahimian, Amir G. Aghdam]     cs.SY   \n",
              "2  [Debidatta Dwibedi, Tomasz Malisiewicz, Vijay ...     cs.CV   \n",
              "3  [Jonathan Huang, Vivek Rathod, Chen Sun, Mengl...     cs.CV   \n",
              "4              [Yoones Hashemi, Amir H. Banihashemi]     cs.IT   \n",
              "\n",
              "             published                                            summary  \\\n",
              "0  2016-11-30 05:17:11  In summary of the research findings presented ...   \n",
              "1  2016-11-30 05:37:11  In this paper, structural controllability of a...   \n",
              "2  2016-11-30 06:00:47  We present a Deep Cuboid Detector which takes ...   \n",
              "3  2016-11-30 06:06:15  In this paper, we study the trade-off between ...   \n",
              "4  2016-11-30 06:12:45  In this paper, we propose a characterization o...   \n",
              "\n",
              "                                               title  tweeted  \\\n",
              "0  Vocabulary and the Brain: Evidence from Neuroi...        0   \n",
              "1  Structural Controllability of Multi-Agent Netw...        0   \n",
              "2    Deep Cuboid Detection: Beyond 2D Bounding Boxes        0   \n",
              "3  Speed/accuracy trade-offs for modern convoluti...        1   \n",
              "4  Characterization and Efficient Exhaustive Sear...        0   \n",
              "\n",
              "                                                 txt  \n",
              "0  <CAT> qbioNC <SUMM> In summary of the research...  \n",
              "1  <CAT> csSY <SUMM> In this paper, structural co...  \n",
              "2  <CAT> csCV <SUMM> We present a Deep Cuboid Det...  \n",
              "3  <CAT> csCV <SUMM> In this paper, we study the ...  \n",
              "4  <CAT> csIT <SUMM> In this paper, we propose a ...  "
            ]
          },
          "metadata": {
            "tags": []
          },
          "execution_count": 91
        }
      ]
    },
    {
      "metadata": {
        "id": "tZIbwtouHHIe",
        "colab_type": "code",
        "colab": {
          "base_uri": "https://localhost:8080/",
          "height": 34
        },
        "outputId": "949be2eb-4836-4882-d217-4d6b31992cff"
      },
      "cell_type": "code",
      "source": [
        "df_mb.shape,df_all.shape"
      ],
      "execution_count": 96,
      "outputs": [
        {
          "output_type": "execute_result",
          "data": {
            "text/plain": [
              "((27188, 11), (50000, 7))"
            ]
          },
          "metadata": {
            "tags": []
          },
          "execution_count": 96
        }
      ]
    },
    {
      "metadata": {
        "id": "Ae95go3nKwgA",
        "colab_type": "code",
        "colab": {}
      },
      "cell_type": "code",
      "source": [
        "PATH ='./'"
      ],
      "execution_count": 0,
      "outputs": []
    },
    {
      "metadata": {
        "id": "iwcKyXPSJDbE",
        "colab_type": "code",
        "colab": {}
      },
      "cell_type": "code",
      "source": [
        "os.makedirs(f'{PATH}trn/yes',exist_ok=True)\n",
        "os.makedirs(f'{PATH}val/yes',exist_ok=True)\n",
        "os.makedirs(f'{PATH}trn/no',exist_ok=True)\n",
        "os.makedirs(f'{PATH}val/no',exist_ok=True)\n",
        "os.makedirs(f'{PATH}all/trn',exist_ok=True)\n",
        "os.makedirs(f'{PATH}all/val',exist_ok=True)\n",
        "os.makedirs(f'{PATH}models',exist_ok=True)"
      ],
      "execution_count": 0,
      "outputs": []
    },
    {
      "metadata": {
        "id": "X400nURrKtCg",
        "colab_type": "code",
        "colab": {}
      },
      "cell_type": "code",
      "source": [
        "for (i,(_,r)) in enumerate(df_all.iterrows()):\n",
        "  dset = 'trn' if random.random()>0.1 else 'val'\n",
        "  open(f'{PATH}all/{dset}/{i}.txt','w').write(r['txt'])"
      ],
      "execution_count": 0,
      "outputs": []
    },
    {
      "metadata": {
        "id": "gtFHmmn3M0sY",
        "colab_type": "code",
        "colab": {}
      },
      "cell_type": "code",
      "source": [
        "for (i,(_,r)) in enumerate(df_mb.iterrows()):\n",
        "  lbl='yes' if r.tweeted else 'no'\n",
        "  dset='trn'if random.random()>0.1 else 'val'\n",
        "  open(f'{PATH}{dset}/{lbl}/{i}.txt','w').write(r['txt'])"
      ],
      "execution_count": 0,
      "outputs": []
    },
    {
      "metadata": {
        "id": "BybybgOhM3kP",
        "colab_type": "code",
        "colab": {
          "base_uri": "https://localhost:8080/",
          "height": 228
        },
        "outputId": "7d56f784-cabe-4d91-f962-316c763edd60"
      },
      "cell_type": "code",
      "source": [
        "from spacy.symbols import ORTH\n",
        "!python -m spacy download en\n",
        "\n",
        "my_tok=spacy.load(\"en\")\n",
        "my_tok.tokenizer.add_special_case('<SUMM>',[{ORTH:'<SUMM>'}])\n",
        "my_tok.tokenizer.add_special_case('<CAT>',[{ORTH:'<CAT>'}])\n",
        "my_tok.tokenizer.add_special_case('<TITLE>',[{ORTH:'<TITLE>'}])\n",
        "my_tok.tokenizer.add_special_case('<BR />',[{ORTH:'<BR />'}])\n",
        "my_tok.tokenizer.add_special_case('<BR>', [{ORTH: '<BR>'}])\n",
        "\n",
        "def my_spacy_tok(x): return [tok.text for tok in my_tok.tokenizer(x)]"
      ],
      "execution_count": 106,
      "outputs": [
        {
          "output_type": "stream",
          "text": [
            "Collecting https://github.com/explosion/spacy-models/releases/download/en_core_web_sm-2.0.0/en_core_web_sm-2.0.0.tar.gz\n",
            "\u001b[?25l  Downloading https://github.com/explosion/spacy-models/releases/download/en_core_web_sm-2.0.0/en_core_web_sm-2.0.0.tar.gz (37.4MB)\n",
            "\u001b[K    100% |████████████████████████████████| 37.4MB 70.5MB/s \n",
            "\u001b[?25hRequirement already satisfied (use --upgrade to upgrade): en-core-web-sm==2.0.0 from https://github.com/explosion/spacy-models/releases/download/en_core_web_sm-2.0.0/en_core_web_sm-2.0.0.tar.gz in /usr/local/lib/python3.6/dist-packages\n",
            "\n",
            "\u001b[93m    Linking successful\u001b[0m\n",
            "    /usr/local/lib/python3.6/dist-packages/en_core_web_sm -->\n",
            "    /usr/local/lib/python3.6/dist-packages/spacy/data/en\n",
            "\n",
            "    You can now load the model via spacy.load('en')\n",
            "\n"
          ],
          "name": "stdout"
        }
      ]
    },
    {
      "metadata": {
        "id": "xC91ngkgzFvH",
        "colab_type": "code",
        "colab": {
          "base_uri": "https://localhost:8080/",
          "height": 34
        },
        "outputId": "5e35743c-faf7-4622-d9b1-606ee8a1e287"
      },
      "cell_type": "code",
      "source": [
        "my_spacy_tok(\" <CAT> hello <SUMM>\")"
      ],
      "execution_count": 107,
      "outputs": [
        {
          "output_type": "execute_result",
          "data": {
            "text/plain": [
              "[' ', '<CAT>', 'hello', '<SUMM>']"
            ]
          },
          "metadata": {
            "tags": []
          },
          "execution_count": 107
        }
      ]
    },
    {
      "metadata": {
        "id": "tNGf95mvxS1z",
        "colab_type": "code",
        "colab": {}
      },
      "cell_type": "code",
      "source": [
        "TEXT = data.Field(lower=True, tokenize=my_spacy_tok)\n",
        "FILES = dict(train='trn', validation='val', test='val')\n",
        "md = LanguageModelData.from_text_files(f'{PATH}all/', TEXT, **FILES, bs=bs, bptt=bptt, min_freq=10)\n",
        "pickle.dump(TEXT, open(f'{PATH}models/TEXT.pkl','wb'))"
      ],
      "execution_count": 0,
      "outputs": []
    },
    {
      "metadata": {
        "id": "6QGL248Qs19y",
        "colab_type": "text"
      },
      "cell_type": "markdown",
      "source": [
        "\n",
        "\n",
        "Here are the: # batches; # unique tokens in the vocab; # tokens in the training set; # sentences\n"
      ]
    },
    {
      "metadata": {
        "id": "XoSsvUFNVCk7",
        "colab_type": "code",
        "colab": {
          "base_uri": "https://localhost:8080/",
          "height": 34
        },
        "outputId": "905d06c2-61f7-47a5-ebfc-951a3e1312cb"
      },
      "cell_type": "code",
      "source": [
        "\n",
        "len(md.trn_dl),md.nt,len(md.trn_ds),len(md.trn_ds[0].text)"
      ],
      "execution_count": 110,
      "outputs": [
        {
          "output_type": "execute_result",
          "data": {
            "text/plain": [
              "(2269, 18955, 1, 10173808)"
            ]
          },
          "metadata": {
            "tags": []
          },
          "execution_count": 110
        }
      ]
    },
    {
      "metadata": {
        "id": "rv15JUs_rzmX",
        "colab_type": "code",
        "colab": {
          "base_uri": "https://localhost:8080/",
          "height": 54
        },
        "outputId": "4207b5e8-b043-47ce-e24b-639bb9241cbd"
      },
      "cell_type": "code",
      "source": [
        "TEXT.vocab.itos[:12]"
      ],
      "execution_count": 111,
      "outputs": [
        {
          "output_type": "execute_result",
          "data": {
            "text/plain": [
              "['<unk>', '<pad>', 'the', ',', '.', 'of', '-', 'and', 'a', 'to', 'in', 'we']"
            ]
          },
          "metadata": {
            "tags": []
          },
          "execution_count": 111
        }
      ]
    },
    {
      "metadata": {
        "id": "5XLtOOz-0oS4",
        "colab_type": "code",
        "colab": {
          "base_uri": "https://localhost:8080/",
          "height": 176
        },
        "outputId": "1c5d5137-52a7-4f6a-e7f3-32fd993395d6"
      },
      "cell_type": "code",
      "source": [
        "!cat all/trn/0.txt"
      ],
      "execution_count": 112,
      "outputs": [
        {
          "output_type": "stream",
          "text": [
            "<CAT> csFL <SUMM> Pomset automata are an operational model of weak bi-Kleene algebra, which\r\n",
            "describes program that can fork an execution into parallel threads, upon\r\n",
            "completion of which execution can join to resume as a single thread. We\r\n",
            "characterize a fragment of pomset automata that admits a decision procedure for\r\n",
            "language equivalence. Furthermore, we prove that this fragment corresponds\r\n",
            "precisely to series-rational expressions, i.e., rational expressions with an\r\n",
            "additional operator for bounded parallelism. As a consequence, we obtain a new\r\n",
            "proof that equivalence of series-rational expressions is decidable. <TITLE> Equivalence checking for weak bi-Kleene algebra"
          ],
          "name": "stdout"
        }
      ]
    },
    {
      "metadata": {
        "id": "GsrUVdZVzjII",
        "colab_type": "code",
        "colab": {
          "base_uri": "https://localhost:8080/",
          "height": 2622
        },
        "outputId": "a884dcfb-7e62-4aee-93f9-6726ecb00ae8"
      },
      "cell_type": "code",
      "source": [
        "md.trn_ds[0].text[:150]"
      ],
      "execution_count": 113,
      "outputs": [
        {
          "output_type": "execute_result",
          "data": {
            "text/plain": [
              "['<cat>',\n",
              " 'physicsbioph',\n",
              " '<summ>',\n",
              " 'despite',\n",
              " 'great',\n",
              " 'progress',\n",
              " 'in',\n",
              " 'neuroscience',\n",
              " ',',\n",
              " 'there',\n",
              " 'are',\n",
              " 'still',\n",
              " 'fundamental',\n",
              " 'unanswered',\n",
              " 'questions',\n",
              " 'about',\n",
              " 'the',\n",
              " 'brain',\n",
              " ',',\n",
              " 'including',\n",
              " 'the',\n",
              " 'origin',\n",
              " 'of',\n",
              " 'subjective',\n",
              " 'experience',\n",
              " 'and',\n",
              " 'consciousness',\n",
              " '.',\n",
              " 'some',\n",
              " 'answers',\n",
              " 'might',\n",
              " 'rely',\n",
              " 'on',\n",
              " 'new',\n",
              " 'physical',\n",
              " 'mechanisms',\n",
              " '.',\n",
              " 'given',\n",
              " 'that',\n",
              " 'biophotons',\n",
              " 'have',\n",
              " 'been',\n",
              " 'discovered',\n",
              " 'in',\n",
              " 'the',\n",
              " 'brain',\n",
              " ',',\n",
              " 'it',\n",
              " 'is',\n",
              " 'interesting',\n",
              " 'to',\n",
              " 'explore',\n",
              " 'if',\n",
              " 'neurons',\n",
              " 'use',\n",
              " 'photonic',\n",
              " 'communication',\n",
              " 'in',\n",
              " 'addition',\n",
              " 'to',\n",
              " 'the',\n",
              " 'well',\n",
              " '-',\n",
              " 'studied',\n",
              " 'electro',\n",
              " '-',\n",
              " 'chemical',\n",
              " 'signals',\n",
              " '.',\n",
              " 'such',\n",
              " 'photonic',\n",
              " 'communication',\n",
              " 'in',\n",
              " 'the',\n",
              " 'brain',\n",
              " 'would',\n",
              " 'require',\n",
              " 'waveguides',\n",
              " '.',\n",
              " 'here',\n",
              " 'we',\n",
              " 'review',\n",
              " 'recent',\n",
              " 'work',\n",
              " '[',\n",
              " 's.',\n",
              " 'kumar',\n",
              " ',',\n",
              " 'k.',\n",
              " 'boone',\n",
              " ',',\n",
              " 'j.',\n",
              " 'tuszynski',\n",
              " ',',\n",
              " 'p.',\n",
              " 'barclay',\n",
              " ',',\n",
              " 'and',\n",
              " 'c.',\n",
              " 'simon',\n",
              " ',',\n",
              " 'scientific',\n",
              " 'reports',\n",
              " '6',\n",
              " ',',\n",
              " '36508',\n",
              " '(',\n",
              " '2016',\n",
              " ')',\n",
              " ']',\n",
              " 'suggesting',\n",
              " 'that',\n",
              " 'myelinated',\n",
              " 'axons',\n",
              " 'could',\n",
              " 'serve',\n",
              " 'as',\n",
              " 'photonic',\n",
              " 'waveguides',\n",
              " '.',\n",
              " 'the',\n",
              " 'light',\n",
              " 'transmission',\n",
              " 'in',\n",
              " 'the',\n",
              " 'myelinated',\n",
              " 'axon',\n",
              " 'was',\n",
              " 'modeled',\n",
              " ',',\n",
              " 'taking',\n",
              " 'into',\n",
              " 'account',\n",
              " 'its',\n",
              " 'realistic',\n",
              " 'imperfections',\n",
              " ',',\n",
              " 'and',\n",
              " 'experiments',\n",
              " 'were',\n",
              " 'proposed',\n",
              " 'both',\n",
              " 'in',\n",
              " '-',\n",
              " 'vivo',\n",
              " 'and',\n",
              " 'in',\n",
              " '-',\n",
              " 'vitro',\n",
              " 'to']"
            ]
          },
          "metadata": {
            "tags": []
          },
          "execution_count": 113
        }
      ]
    },
    {
      "metadata": {
        "id": "ekVzIqaVr94Z",
        "colab_type": "code",
        "colab": {
          "base_uri": "https://localhost:8080/",
          "height": 54
        },
        "outputId": "1818a2d1-e431-4394-ce1f-7f91119afe1a"
      },
      "cell_type": "code",
      "source": [
        "' '.join(md.trn_ds[0].text[:150])"
      ],
      "execution_count": 114,
      "outputs": [
        {
          "output_type": "execute_result",
          "data": {
            "text/plain": [
              "'<cat> physicsbioph <summ> despite great progress in neuroscience , there are still fundamental unanswered questions about the brain , including the origin of subjective experience and consciousness . some answers might rely on new physical mechanisms . given that biophotons have been discovered in the brain , it is interesting to explore if neurons use photonic communication in addition to the well - studied electro - chemical signals . such photonic communication in the brain would require waveguides . here we review recent work [ s. kumar , k. boone , j. tuszynski , p. barclay , and c. simon , scientific reports 6 , 36508 ( 2016 ) ] suggesting that myelinated axons could serve as photonic waveguides . the light transmission in the myelinated axon was modeled , taking into account its realistic imperfections , and experiments were proposed both in - vivo and in - vitro to'"
            ]
          },
          "metadata": {
            "tags": []
          },
          "execution_count": 114
        }
      ]
    },
    {
      "metadata": {
        "id": "282pJrRnxccX",
        "colab_type": "text"
      },
      "cell_type": "markdown",
      "source": [
        "## Train"
      ]
    },
    {
      "metadata": {
        "id": "FfGMrsknvvzL",
        "colab_type": "code",
        "colab": {}
      },
      "cell_type": "code",
      "source": [
        "em_sz = 200\n",
        "nh = 500\n",
        "nl = 3\n",
        "opt_fn = partial(optim.Adam,betas=(.7,.99))"
      ],
      "execution_count": 0,
      "outputs": []
    },
    {
      "metadata": {
        "id": "G21l4sYQxwz7",
        "colab_type": "code",
        "colab": {}
      },
      "cell_type": "code",
      "source": [
        "learner = md.get_model(opt_fn,\n",
        "                      em_sz,\n",
        "                      nh,\n",
        "                      nl,\n",
        "                      dropout=.05,\n",
        "                      dropouth=.1,\n",
        "                      dropouti=.05,\n",
        "                      dropoute=.02,\n",
        "                      wdrop=0.2)\n",
        "learner.reg_fn = partial(seq2seq_reg,alpha=2,beta=1)\n",
        "learner.clip = 0.3"
      ],
      "execution_count": 0,
      "outputs": []
    },
    {
      "metadata": {
        "id": "ctZMwQWU2Kki",
        "colab_type": "code",
        "colab": {
          "base_uri": "https://localhost:8080/",
          "height": 72
        },
        "outputId": "786a49a1-c6f2-47b2-9a1e-0b3bef8eaa3a"
      },
      "cell_type": "code",
      "source": [
        "learner.fit(3e-3,1,wds=1e-6)"
      ],
      "execution_count": 0,
      "outputs": [
        {
          "output_type": "display_data",
          "data": {
            "application/vnd.jupyter.widget-view+json": {
              "model_id": "3354ba6d51564ee082bfe65eac33da25",
              "version_minor": 0,
              "version_major": 2
            },
            "text/plain": [
              "HBox(children=(IntProgress(value=0, description='Epoch', max=1), HTML(value='')))"
            ]
          },
          "metadata": {
            "tags": []
          }
        },
        {
          "output_type": "stream",
          "text": [
            "  1%|▏         | 33/2269 [04:50<5:28:32,  8.82s/it, loss=7.19]"
          ],
          "name": "stdout"
        }
      ]
    },
    {
      "metadata": {
        "id": "YB0DzTD24Hcn",
        "colab_type": "code",
        "colab": {}
      },
      "cell_type": "code",
      "source": [
        "learner.fit(3e-3,3,wds=1e-6,cycle_len=1,cycle_mult=2)"
      ],
      "execution_count": 0,
      "outputs": []
    },
    {
      "metadata": {
        "id": "VJxbZ_uK4SDh",
        "colab_type": "code",
        "colab": {}
      },
      "cell_type": "code",
      "source": [
        "learner.save_encoder('adam2_enc')"
      ],
      "execution_count": 0,
      "outputs": []
    },
    {
      "metadata": {
        "id": "DJluqE8L4dST",
        "colab_type": "code",
        "colab": {}
      },
      "cell_type": "code",
      "source": [
        "learner.fit(3e-3,10,wds=1e-6,cycle_len=5,cycle_save_name='adam3_10')"
      ],
      "execution_count": 0,
      "outputs": []
    },
    {
      "metadata": {
        "id": "oI2qEge94tHC",
        "colab_type": "code",
        "colab": {}
      },
      "cell_type": "code",
      "source": [
        "learn.save_encoder('adam3_10_enc')"
      ],
      "execution_count": 0,
      "outputs": []
    },
    {
      "metadata": {
        "id": "Xw6Ybd-e5IFD",
        "colab_type": "code",
        "colab": {}
      },
      "cell_type": "code",
      "source": [
        "learner.fit(3e-3, 8, wds=1e-6, cycle_len=10, cycle_save_name='adam3_5')"
      ],
      "execution_count": 0,
      "outputs": []
    },
    {
      "metadata": {
        "id": "tsx_n-vr5bhK",
        "colab_type": "code",
        "colab": {}
      },
      "cell_type": "code",
      "source": [
        "learner.fit(3e-3, 1, wds=1e-6, cycle_len=20, cycle_save_name='adam3_20')"
      ],
      "execution_count": 0,
      "outputs": []
    },
    {
      "metadata": {
        "id": "Bz-kLdMe5kVu",
        "colab_type": "code",
        "colab": {}
      },
      "cell_type": "code",
      "source": [
        "learner.save_encoder('adam3_20_enc')"
      ],
      "execution_count": 0,
      "outputs": []
    },
    {
      "metadata": {
        "id": "toaMGm5P5pQG",
        "colab_type": "code",
        "colab": {}
      },
      "cell_type": "code",
      "source": [
        ""
      ],
      "execution_count": 0,
      "outputs": []
    }
  ]
}