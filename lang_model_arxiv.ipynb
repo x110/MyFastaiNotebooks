{
  "nbformat": 4,
  "nbformat_minor": 0,
  "metadata": {
    "colab": {
      "name": "lang_model_arxiv.ipynb",
      "version": "0.3.2",
      "provenance": [],
      "include_colab_link": true
    },
    "kernelspec": {
      "name": "python3",
      "display_name": "Python 3"
    },
    "accelerator": "GPU"
  },
  "cells": [
    {
      "cell_type": "markdown",
      "metadata": {
        "id": "view-in-github",
        "colab_type": "text"
      },
      "source": [
        "<a href=\"https://colab.research.google.com/github/x110/MyFastaiNotebooks/blob/master/lang_model_arxiv.ipynb\" target=\"_parent\"><img src=\"https://colab.research.google.com/assets/colab-badge.svg\" alt=\"Open In Colab\"/></a>"
      ]
    },
    {
      "metadata": {
        "id": "xWiIsgrbgH4W",
        "colab_type": "text"
      },
      "cell_type": "markdown",
      "source": [
        "# Language modeling"
      ]
    },
    {
      "metadata": {
        "id": "M3JcmwBtjE0N",
        "colab_type": "text"
      },
      "cell_type": "markdown",
      "source": [
        "## Set up google colab"
      ]
    },
    {
      "metadata": {
        "id": "nkxF1KJ6JPH0",
        "colab_type": "code",
        "colab": {}
      },
      "cell_type": "code",
      "source": [
        "!pip install git+https://github.com/fastai/fastai.git"
      ],
      "execution_count": 0,
      "outputs": []
    },
    {
      "metadata": {
        "id": "o-siAeBUJZvw",
        "colab_type": "code",
        "colab": {}
      },
      "cell_type": "code",
      "source": [
        "from google.colab import drive\n",
        "drive.mount('/content/drive')"
      ],
      "execution_count": 0,
      "outputs": []
    },
    {
      "metadata": {
        "id": "ltHbnwYrClKY",
        "colab_type": "code",
        "colab": {}
      },
      "cell_type": "code",
      "source": [
        "#drive.mount(\"/content/drive\", force_remount=True)"
      ],
      "execution_count": 0,
      "outputs": []
    },
    {
      "metadata": {
        "id": "5oNEnw4uUdcI",
        "colab_type": "text"
      },
      "cell_type": "markdown",
      "source": [
        "## Get your data ready for modeling"
      ]
    },
    {
      "metadata": {
        "id": "tLOTBnOpNWkG",
        "colab_type": "code",
        "colab": {}
      },
      "cell_type": "code",
      "source": [
        "from fastai.text import *"
      ],
      "execution_count": 0,
      "outputs": []
    },
    {
      "metadata": {
        "id": "_vN1g0gdHXTL",
        "colab_type": "code",
        "colab": {}
      },
      "cell_type": "code",
      "source": [
        "my_tok2=SpacyTokenizer(\"en\")\n",
        "w = ['<SUMM>','<CAT>','<TITLE>','<BR />','<BR>']\n",
        "my_tok2.add_special_cases(w)"
      ],
      "execution_count": 0,
      "outputs": []
    },
    {
      "metadata": {
        "id": "jEaurBkyN96Z",
        "colab_type": "code",
        "colab": {}
      },
      "cell_type": "code",
      "source": [
        "PATH='drive/My Drive/myfastai/data/arxiv1/'"
      ],
      "execution_count": 0,
      "outputs": []
    },
    {
      "metadata": {
        "id": "ipv6EQOpQQGz",
        "colab_type": "code",
        "colab": {}
      },
      "cell_type": "code",
      "source": [
        "FILES = dict(train='train', valid='valid')"
      ],
      "execution_count": 0,
      "outputs": []
    },
    {
      "metadata": {
        "id": "GatvjKI5JaJs",
        "colab_type": "code",
        "colab": {}
      },
      "cell_type": "code",
      "source": [
        "#data = TextLMDataBunch.from_folder(f'{PATH}all/',**FILES, min_freq=10)"
      ],
      "execution_count": 0,
      "outputs": []
    },
    {
      "metadata": {
        "id": "Pu9gOubQnZDR",
        "colab_type": "text"
      },
      "cell_type": "markdown",
      "source": [
        "Since this step can be a bit time-consuming, it's best to save the result with:"
      ]
    },
    {
      "metadata": {
        "id": "Z3pLjfb5YAZi",
        "colab_type": "code",
        "colab": {}
      },
      "cell_type": "code",
      "source": [
        "#data.save()"
      ],
      "execution_count": 0,
      "outputs": []
    },
    {
      "metadata": {
        "id": "u10u3XPVnSm5",
        "colab_type": "text"
      },
      "cell_type": "markdown",
      "source": [
        "This will create a 'tmp' directory where all the computed stuff will be stored. You can then reload those results with:"
      ]
    },
    {
      "metadata": {
        "id": "4wGhTrl_nRa8",
        "colab_type": "code",
        "colab": {}
      },
      "cell_type": "code",
      "source": [
        "data = TextLMDataBunch.load(f'{PATH}all/')"
      ],
      "execution_count": 0,
      "outputs": []
    },
    {
      "metadata": {
        "id": "HPtJIjljn1pm",
        "colab_type": "text"
      },
      "cell_type": "markdown",
      "source": [
        "## Fine-tuning a language model"
      ]
    },
    {
      "metadata": {
        "id": "toxZvuHnoFS7",
        "colab_type": "text"
      },
      "cell_type": "markdown",
      "source": [
        "We can use the data object we created earlier to fine-tune a pretrained language model. fast.ai has an English model available that we can download. We can create a learner object that will directly create a model, download the pretrained weights and be ready for fine-tuning.\n",
        "\n"
      ]
    },
    {
      "metadata": {
        "id": "ShCZeApAoAsx",
        "colab_type": "code",
        "colab": {}
      },
      "cell_type": "code",
      "source": [
        "#learn = language_model_learner(data, pretrained_model=URLs.WT103_1, drop_mult=0.5)"
      ],
      "execution_count": 0,
      "outputs": []
    },
    {
      "metadata": {
        "id": "79dRZmfdOZMv",
        "colab_type": "code",
        "colab": {}
      },
      "cell_type": "code",
      "source": [
        "??learn.fit_one_cycle"
      ],
      "execution_count": 0,
      "outputs": []
    },
    {
      "metadata": {
        "id": "r0T1iUKbOz-K",
        "colab_type": "code",
        "colab": {}
      },
      "cell_type": "code",
      "source": [
        "learn = language_model_learner(data,\n",
        "                               emb_sz = 200,   \n",
        "                               nh = 500,\n",
        "                               drop_mult=0.5)"
      ],
      "execution_count": 0,
      "outputs": []
    },
    {
      "metadata": {
        "id": "BIUUKPp3ZbOw",
        "colab_type": "code",
        "colab": {}
      },
      "cell_type": "code",
      "source": [
        "learn.unfreeze()"
      ],
      "execution_count": 0,
      "outputs": []
    },
    {
      "metadata": {
        "id": "N-WeMYNLZfKR",
        "colab_type": "code",
        "outputId": "a3614e14-3f04-4ff0-c618-9478168383f6",
        "colab": {
          "base_uri": "https://localhost:8080/",
          "height": 91
        }
      },
      "cell_type": "code",
      "source": [
        "learn.fit_one_cycle(1, 3e-3, wd=1e-6)"
      ],
      "execution_count": 0,
      "outputs": [
        {
          "output_type": "display_data",
          "data": {
            "text/html": [
              "Total time: 09:03 <p><table style='width:300px; margin-bottom:10px'>\n",
              "  <tr>\n",
              "    <th>epoch</th>\n",
              "    <th>train_loss</th>\n",
              "    <th>valid_loss</th>\n",
              "    <th>accuracy</th>\n",
              "  </tr>\n",
              "  <tr>\n",
              "    <th>1</th>\n",
              "    <th>0.004069</th>\n",
              "    <th>7.125626</th>\n",
              "    <th>0.143073</th>\n",
              "  </tr>\n",
              "</table>\n"
            ],
            "text/plain": [
              "<IPython.core.display.HTML object>"
            ]
          },
          "metadata": {
            "tags": []
          }
        }
      ]
    },
    {
      "metadata": {
        "id": "Xn0x4ZzR98M0",
        "colab_type": "code",
        "outputId": "410c7e0a-660c-4857-a153-6e22e09bdc6c",
        "colab": {
          "base_uri": "https://localhost:8080/",
          "height": 34
        }
      },
      "cell_type": "code",
      "source": [
        "!ls"
      ],
      "execution_count": 0,
      "outputs": [
        {
          "output_type": "stream",
          "text": [
            "sample_data\n"
          ],
          "name": "stdout"
        }
      ]
    },
    {
      "metadata": {
        "id": "AndcylVYoU_n",
        "colab_type": "code",
        "outputId": "6a62b83f-fcc8-4974-a83b-3ea2c9f70ab1",
        "colab": {
          "base_uri": "https://localhost:8080/",
          "height": 91
        }
      },
      "cell_type": "code",
      "source": [
        "learn.fit_one_cycle(1, 3e-3, wd=1e-6)"
      ],
      "execution_count": 0,
      "outputs": [
        {
          "output_type": "display_data",
          "data": {
            "text/html": [
              "Total time: 09:06 <p><table style='width:300px; margin-bottom:10px'>\n",
              "  <tr>\n",
              "    <th>epoch</th>\n",
              "    <th>train_loss</th>\n",
              "    <th>valid_loss</th>\n",
              "    <th>accuracy</th>\n",
              "  </tr>\n",
              "  <tr>\n",
              "    <th>1</th>\n",
              "    <th>0.004610</th>\n",
              "    <th>7.065801</th>\n",
              "    <th>0.139501</th>\n",
              "  </tr>\n",
              "</table>\n"
            ],
            "text/plain": [
              "<IPython.core.display.HTML object>"
            ]
          },
          "metadata": {
            "tags": []
          }
        }
      ]
    },
    {
      "metadata": {
        "id": "vkyd9-f6OJUp",
        "colab_type": "code",
        "outputId": "030320a7-7fba-4ff3-a6e5-e7baa225ca4a",
        "colab": {
          "base_uri": "https://localhost:8080/",
          "height": 336
        }
      },
      "cell_type": "code",
      "source": [
        "learn.unfreeze()\n",
        "learn.fit_one_cycle(1, 1e-3)"
      ],
      "execution_count": 0,
      "outputs": [
        {
          "output_type": "execute_result",
          "data": {
            "text/plain": [
              "TextLMDataBunch;\n",
              "\n",
              "Train: LabelList\n",
              "y: LMLabel (0 items)\n",
              "[]...\n",
              "Path: /content/drive/My Drive/myfastai/data/arxiv1/all\n",
              "x: LMTextList (0 items)\n",
              "[]...\n",
              "Path: /content/drive/My Drive/myfastai/data/arxiv1/all;\n",
              "\n",
              "Valid: LabelList\n",
              "y: LMLabel (0 items)\n",
              "[]...\n",
              "Path: /content/drive/My Drive/myfastai/data/arxiv1/all\n",
              "x: LMTextList (0 items)\n",
              "[]...\n",
              "Path: /content/drive/My Drive/myfastai/data/arxiv1/all;\n",
              "\n",
              "Test: None"
            ]
          },
          "metadata": {
            "tags": []
          },
          "execution_count": 11
        }
      ]
    },
    {
      "metadata": {
        "id": "mVHhdAjkqJID",
        "colab_type": "code",
        "colab": {}
      },
      "cell_type": "code",
      "source": [
        "learn.predict(\"This is a review about\", n_words=10)"
      ],
      "execution_count": 0,
      "outputs": []
    },
    {
      "metadata": {
        "id": "ev355PlrOffn",
        "colab_type": "code",
        "colab": {}
      },
      "cell_type": "code",
      "source": [
        "learn.save_encoder('ft_enc')"
      ],
      "execution_count": 0,
      "outputs": []
    }
  ]
}